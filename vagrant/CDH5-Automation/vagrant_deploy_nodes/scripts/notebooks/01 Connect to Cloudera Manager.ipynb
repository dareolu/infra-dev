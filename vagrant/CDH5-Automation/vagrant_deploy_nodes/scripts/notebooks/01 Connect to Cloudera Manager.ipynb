{
 "cells": [
  {
   "cell_type": "markdown",
   "metadata": {},
   "source": [
    "# Connect to Cloudera Manager"
   ]
  },
  {
   "cell_type": "code",
   "execution_count": 35,
   "metadata": {
    "collapsed": true
   },
   "outputs": [],
   "source": [
    "import pprint, time, sys"
   ]
  },
  {
   "cell_type": "code",
   "execution_count": 36,
   "metadata": {
    "collapsed": false
   },
   "outputs": [
    {
     "data": {
      "text/plain": [
       "'/vagrant/notebooks/cloudera'"
      ]
     },
     "execution_count": 36,
     "metadata": {},
     "output_type": "execute_result"
    }
   ],
   "source": [
    "varClouderaPath = \"/vagrant/notebooks/cloudera\"\n",
    "sys.path.append(varClouderaPath)\n",
    "\n",
    "varClouderaPath"
   ]
  },
  {
   "cell_type": "code",
   "execution_count": 37,
   "metadata": {
    "collapsed": false
   },
   "outputs": [
    {
     "data": {
      "text/plain": [
       "['',\n",
       " '/opt/anaconda/lib/python27.zip',\n",
       " '/opt/anaconda/lib/python2.7',\n",
       " '/opt/anaconda/lib/python2.7/plat-linux2',\n",
       " '/opt/anaconda/lib/python2.7/lib-tk',\n",
       " '/opt/anaconda/lib/python2.7/lib-old',\n",
       " '/opt/anaconda/lib/python2.7/lib-dynload',\n",
       " '/opt/anaconda/lib/python2.7/site-packages',\n",
       " '/opt/anaconda/lib/python2.7/site-packages/Sphinx-1.4.1-py2.7.egg',\n",
       " '/opt/anaconda/lib/python2.7/site-packages/setuptools-23.0.0-py2.7.egg',\n",
       " '/opt/anaconda/lib/python2.7/site-packages/IPython/extensions',\n",
       " '/root/.ipython',\n",
       " '/vagrant/notebooks/cloudera',\n",
       " '/vagrant/notebooks/cloudera',\n",
       " '/vagrant/notebooks/cloudera',\n",
       " '/vagrant/notebooks/cloudera']"
      ]
     },
     "execution_count": 37,
     "metadata": {},
     "output_type": "execute_result"
    }
   ],
   "source": [
    "sys.path"
   ]
  },
  {
   "cell_type": "code",
   "execution_count": null,
   "metadata": {
    "collapsed": true
   },
   "outputs": [],
   "source": []
  },
  {
   "cell_type": "markdown",
   "metadata": {},
   "source": [
    "# Connect to Cloudera Manager"
   ]
  },
  {
   "cell_type": "code",
   "execution_count": null,
   "metadata": {
    "collapsed": true
   },
   "outputs": [],
   "source": [
    "from cm_api.endpoints.services import ApiService\n",
    "from cm_api.endpoints.services import ApiServiceSetupInfo\n",
    "from cm_api.api_client import ApiResource"
   ]
  },
  {
   "cell_type": "code",
   "execution_count": 40,
   "metadata": {
    "collapsed": true
   },
   "outputs": [],
   "source": [
    "varFullHost = \"pocd-cm581-dev-manager.poc-d.internal\"\n",
    "varAdminUser = \"admin\"\n",
    "varAdminPassword = \"admin\"\n",
    "\n",
    "varApiResource = ApiResource(varFullHost, version=10, username=varAdminUser, password=varAdminPassword)\n",
    "varManager = varApiResource.get_cloudera_manager()"
   ]
  },
  {
   "cell_type": "code",
   "execution_count": null,
   "metadata": {
    "collapsed": true
   },
   "outputs": [],
   "source": []
  },
  {
   "cell_type": "code",
   "execution_count": null,
   "metadata": {
    "collapsed": true
   },
   "outputs": [],
   "source": [
    "# Configure some Cloudera Manager Settings"
   ]
  },
  {
   "cell_type": "code",
   "execution_count": 41,
   "metadata": {
    "collapsed": true
   },
   "outputs": [],
   "source": [
    "varBannerText = \"POC-D - Test Cluster\"\n",
    "varBannerColour = \"GREEN\"\n",
    "varMaxUploads = 2\n",
    "varParcelRepo = \"http://pocd-cm581-dev-manager/parcels/5.8.0/\"\n"
   ]
  },
  {
   "cell_type": "code",
   "execution_count": 42,
   "metadata": {
    "collapsed": false
   },
   "outputs": [
    {
     "data": {
      "text/plain": [
       "{'custom_banner_html': 'POC-D - Test Cluster',\n",
       " 'custom_header_color': 'GREEN',\n",
       " 'parcel_max_upload': 2,\n",
       " 'remote_parcel_repo_urls': 'http://pocd-cm581-dev-manager/parcels/5.8.0/'}"
      ]
     },
     "execution_count": 42,
     "metadata": {},
     "output_type": "execute_result"
    }
   ],
   "source": [
    "varClouderaManagerConfig = {\n",
    "    'custom_banner_html': varBannerText,\n",
    "    'custom_header_color': varBannerColour,\n",
    "    'parcel_max_upload': varMaxUploads,\n",
    "    'remote_parcel_repo_urls': varParcelRepo,\n",
    "}\n",
    "\n",
    "varClouderaManagerConfig"
   ]
  },
  {
   "cell_type": "code",
   "execution_count": 43,
   "metadata": {
    "collapsed": false
   },
   "outputs": [
    {
     "data": {
      "text/plain": [
       "{u'CLUSTER_STATS_START': u'10/22/2012 9:30',\n",
       " u'CUSTOM_BANNER_HTML': u'POC-D - Test Cluster',\n",
       " u'CUSTOM_HEADER_COLOR': u'GREEN',\n",
       " u'PARCEL_MAX_UPLOAD': u'2',\n",
       " u'REMOTE_PARCEL_REPO_URLS': u'http://pocd-cm581-dev-manager/parcels/5.8.0/'}"
      ]
     },
     "execution_count": 43,
     "metadata": {},
     "output_type": "execute_result"
    }
   ],
   "source": [
    "varManager.update_config(varClouderaManagerConfig)\n"
   ]
  },
  {
   "cell_type": "code",
   "execution_count": 44,
   "metadata": {
    "collapsed": false
   },
   "outputs": [
    {
     "data": {
      "text/plain": [
       "<cm_api.endpoints.services.ApiService at 0x7f776053f6d0>"
      ]
     },
     "execution_count": 44,
     "metadata": {},
     "output_type": "execute_result"
    }
   ],
   "source": [
    "varManager.get_service()"
   ]
  },
  {
   "cell_type": "code",
   "execution_count": null,
   "metadata": {
    "collapsed": true
   },
   "outputs": [],
   "source": []
  }
 ],
 "metadata": {
  "anaconda-cloud": {},
  "kernelspec": {
   "display_name": "Python 2",
   "language": "python",
   "name": "python2"
  },
  "language_info": {
   "codemirror_mode": {
    "name": "ipython",
    "version": 2
   },
   "file_extension": ".py",
   "mimetype": "text/x-python",
   "name": "python",
   "nbconvert_exporter": "python",
   "pygments_lexer": "ipython2",
   "version": "2.7.11"
  }
 },
 "nbformat": 4,
 "nbformat_minor": 0
}
