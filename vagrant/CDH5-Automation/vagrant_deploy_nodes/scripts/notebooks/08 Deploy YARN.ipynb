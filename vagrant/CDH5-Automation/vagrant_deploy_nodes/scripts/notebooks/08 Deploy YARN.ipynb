{
 "cells": [
  {
   "cell_type": "markdown",
   "metadata": {},
   "source": [
    "# Deploy YARN"
   ]
  },
  {
   "cell_type": "code",
   "execution_count": 2,
   "metadata": {
    "collapsed": true
   },
   "outputs": [],
   "source": [
    "import pprint, time, sys"
   ]
  },
  {
   "cell_type": "code",
   "execution_count": 3,
   "metadata": {
    "collapsed": false
   },
   "outputs": [
    {
     "data": {
      "text/plain": [
       "'/vagrant/notebooks/cloudera'"
      ]
     },
     "execution_count": 3,
     "metadata": {},
     "output_type": "execute_result"
    }
   ],
   "source": [
    "varClouderaPath = \"/vagrant/notebooks/cloudera\"\n",
    "sys.path.append(varClouderaPath)\n",
    "\n",
    "varClouderaPath"
   ]
  },
  {
   "cell_type": "code",
   "execution_count": 4,
   "metadata": {
    "collapsed": false
   },
   "outputs": [
    {
     "data": {
      "text/plain": [
       "['',\n",
       " '/opt/anaconda/lib/python27.zip',\n",
       " '/opt/anaconda/lib/python2.7',\n",
       " '/opt/anaconda/lib/python2.7/plat-linux2',\n",
       " '/opt/anaconda/lib/python2.7/lib-tk',\n",
       " '/opt/anaconda/lib/python2.7/lib-old',\n",
       " '/opt/anaconda/lib/python2.7/lib-dynload',\n",
       " '/opt/anaconda/lib/python2.7/site-packages',\n",
       " '/opt/anaconda/lib/python2.7/site-packages/Sphinx-1.4.1-py2.7.egg',\n",
       " '/opt/anaconda/lib/python2.7/site-packages/setuptools-23.0.0-py2.7.egg',\n",
       " '/opt/anaconda/lib/python2.7/site-packages/IPython/extensions',\n",
       " '/root/.ipython',\n",
       " '/vagrant/notebooks/cloudera']"
      ]
     },
     "execution_count": 4,
     "metadata": {},
     "output_type": "execute_result"
    }
   ],
   "source": [
    "sys.path"
   ]
  },
  {
   "cell_type": "code",
   "execution_count": null,
   "metadata": {
    "collapsed": true
   },
   "outputs": [],
   "source": []
  },
  {
   "cell_type": "code",
   "execution_count": 5,
   "metadata": {
    "collapsed": false
   },
   "outputs": [
    {
     "name": "stdout",
     "output_type": "stream",
     "text": [
      "             total       used       free     shared    buffers     cached\r\n",
      "Mem:       3922528    2254200    1668328        164      59564    1689076\r\n",
      "-/+ buffers/cache:     505560    3416968 \r\n",
      "Swap:      1015804          0    1015804 \r\n"
     ]
    }
   ],
   "source": [
    "!free"
   ]
  },
  {
   "cell_type": "markdown",
   "metadata": {},
   "source": [
    "# Connect to Cloudera Manager"
   ]
  },
  {
   "cell_type": "code",
   "execution_count": 6,
   "metadata": {
    "collapsed": true
   },
   "outputs": [],
   "source": [
    "from cm_api.endpoints.services import ApiService\n",
    "from cm_api.endpoints.services import ApiServiceSetupInfo\n",
    "from cm_api.api_client import ApiResource"
   ]
  },
  {
   "cell_type": "code",
   "execution_count": 7,
   "metadata": {
    "collapsed": false
   },
   "outputs": [
    {
     "data": {
      "text/plain": [
       "<cm_api.endpoints.cms.ClouderaManager at 0x7f689c398650>"
      ]
     },
     "execution_count": 7,
     "metadata": {},
     "output_type": "execute_result"
    }
   ],
   "source": [
    "varFullHost = \"pocd-cm581-dev-manager.poc-d.internal\"\n",
    "\n",
    "varAdminUser = \"admin\"\n",
    "varAdminPassword = \"admin\"\n",
    "\n",
    "varApiResource = ApiResource(varFullHost, version=10, username=varAdminUser, password=varAdminPassword)\n",
    "varManager = varApiResource.get_cloudera_manager()\n",
    "varManager"
   ]
  },
  {
   "cell_type": "code",
   "execution_count": null,
   "metadata": {
    "collapsed": true
   },
   "outputs": [],
   "source": []
  },
  {
   "cell_type": "code",
   "execution_count": 8,
   "metadata": {
    "collapsed": true
   },
   "outputs": [],
   "source": [
    "# Get cluster"
   ]
  },
  {
   "cell_type": "code",
   "execution_count": 9,
   "metadata": {
    "collapsed": true
   },
   "outputs": [],
   "source": [
    "varClusterName = \"POC-D Cluster\"\n"
   ]
  },
  {
   "cell_type": "code",
   "execution_count": 10,
   "metadata": {
    "collapsed": false
   },
   "outputs": [],
   "source": [
    "varCluster = varApiResource.get_cluster(varClusterName)\n"
   ]
  },
  {
   "cell_type": "code",
   "execution_count": null,
   "metadata": {
    "collapsed": true
   },
   "outputs": [],
   "source": []
  },
  {
   "cell_type": "code",
   "execution_count": 11,
   "metadata": {
    "collapsed": true
   },
   "outputs": [],
   "source": [
    "varZK_Name = \"ZooKeeper\""
   ]
  },
  {
   "cell_type": "code",
   "execution_count": 12,
   "metadata": {
    "collapsed": true
   },
   "outputs": [],
   "source": [
    "!mkdir -p /opt/cloudera/lib/hadoop-yarn\n",
    "!chmod -R 777 /opt/cloudera/lib/hadoop-yarn\n"
   ]
  },
  {
   "cell_type": "code",
   "execution_count": 13,
   "metadata": {
    "collapsed": false
   },
   "outputs": [
    {
     "data": {
      "text/plain": [
       "{'enable_config_alerts': True,\n",
       " 'hdfs_service': 'HDFS',\n",
       " 'hdfs_user_home_dir': '/opt/cloudera/lib/hadoop-yarn',\n",
       " 'process_groupname': 'hadoop',\n",
       " 'process_username': 'yarn',\n",
       " 'zookeeper_service': 'ZooKeeper'}"
      ]
     },
     "execution_count": 13,
     "metadata": {},
     "output_type": "execute_result"
    }
   ],
   "source": [
    "varYARNServiceConfig = {\n",
    "    'hdfs_user_home_dir': \"/opt/cloudera/lib/hadoop-yarn\",\n",
    "    'process_groupname': \"hadoop\",\n",
    "    'process_username': \"yarn\",\n",
    "    'hdfs_service': \"HDFS\",\n",
    "    'zookeeper_service': varZK_Name,\n",
    "    'enable_config_alerts': True,\n",
    "}\n",
    "\n",
    "varYARNServiceConfig"
   ]
  },
  {
   "cell_type": "code",
   "execution_count": 20,
   "metadata": {
    "collapsed": false
   },
   "outputs": [],
   "source": []
  },
  {
   "cell_type": "code",
   "execution_count": 14,
   "metadata": {
    "collapsed": false
   },
   "outputs": [
    {
     "name": "stdout",
     "output_type": "stream",
     "text": [
      "chmod: missing operand after `777/opt/cloudera/log/hadoop-yarn'\r\n",
      "Try `chmod --help' for more information.\r\n"
     ]
    }
   ],
   "source": [
    "!mkdir -p /opt/cloudera/log/hadoop-yarn\n",
    "!chmod -R 777/opt/cloudera/log/hadoop-yarn\n"
   ]
  },
  {
   "cell_type": "code",
   "execution_count": 15,
   "metadata": {
    "collapsed": false
   },
   "outputs": [
    {
     "data": {
      "text/plain": [
       "{'enable_config_alerts': True,\n",
       " 'log_threshold': 'INFO',\n",
       " 'max_log_backup_index': 10,\n",
       " 'max_log_size': 100,\n",
       " 'oom_heap_dump_dir': '/tmp',\n",
       " 'oom_heap_dump_enabled': False,\n",
       " 'resource_manager_java_heapsize': 268435456,\n",
       " 'resource_manager_log_dir': '/opt/cloudera/log/hadoop-yarn'}"
      ]
     },
     "execution_count": 15,
     "metadata": {},
     "output_type": "execute_result"
    }
   ],
   "source": [
    "varYARN_ResourceManager_Config = {\n",
    "    'resource_manager_java_heapsize': 268435456,\n",
    "    'resource_manager_log_dir': \"/opt/cloudera/log/hadoop-yarn\",\n",
    "    'oom_heap_dump_dir': \"/tmp\",\n",
    "    'oom_heap_dump_enabled': False,\n",
    "    'max_log_backup_index': 10,\n",
    "    'max_log_size': 100,\n",
    "    'log_threshold': \"INFO\",\n",
    "    'enable_config_alerts': True,\n",
    "}\n",
    "\n",
    "varYARN_ResourceManager_Config"
   ]
  },
  {
   "cell_type": "code",
   "execution_count": null,
   "metadata": {
    "collapsed": true
   },
   "outputs": [],
   "source": []
  },
  {
   "cell_type": "code",
   "execution_count": 16,
   "metadata": {
    "collapsed": true
   },
   "outputs": [],
   "source": [
    "!mkdir -p /opt/cloudera/log/hadoop-mapreduce\n",
    "!chmod -R 777 /opt/cloudera/log/hadoop-mapreduce"
   ]
  },
  {
   "cell_type": "code",
   "execution_count": 17,
   "metadata": {
    "collapsed": false
   },
   "outputs": [
    {
     "data": {
      "text/plain": [
       "{'enable_config_alerts': True,\n",
       " 'history_process_groupname': 'hadoop',\n",
       " 'history_process_username': 'mapred',\n",
       " 'log_threshold': 'INFO',\n",
       " 'max_log_backup_index': 10,\n",
       " 'max_log_size': 100,\n",
       " 'mr2_jobhistory_java_heapsize': 268435456,\n",
       " 'mr2_jobhistory_log_dir': '/opt/cloudera/log/hadoop-mapreduce',\n",
       " 'oom_heap_dump_dir': '/tmp',\n",
       " 'oom_heap_dump_enabled': False}"
      ]
     },
     "execution_count": 17,
     "metadata": {},
     "output_type": "execute_result"
    }
   ],
   "source": [
    "varYARN_JobHistoryManager_Config = {\n",
    "    'mr2_jobhistory_java_heapsize': 268435456,\n",
    "    'mr2_jobhistory_log_dir': \"/opt/cloudera/log/hadoop-mapreduce\",\n",
    "    'oom_heap_dump_dir': \"/tmp\",\n",
    "    'oom_heap_dump_enabled': False,\n",
    "    'max_log_backup_index': 10,\n",
    "    'max_log_size': 100,\n",
    "    'log_threshold': \"INFO\",\n",
    "    'history_process_groupname': \"hadoop\",\n",
    "    'history_process_username': \"mapred\",\n",
    "    'enable_config_alerts': True,\n",
    "}\n",
    "\n",
    "varYARN_JobHistoryManager_Config"
   ]
  },
  {
   "cell_type": "code",
   "execution_count": null,
   "metadata": {
    "collapsed": true
   },
   "outputs": [],
   "source": []
  },
  {
   "cell_type": "code",
   "execution_count": 18,
   "metadata": {
    "collapsed": true
   },
   "outputs": [],
   "source": [
    "!mkdir -p /opt/cloudera/lib/hadoop-yarn/yarn-nm-recovery\n",
    "!mkdir -p /opt/cloudera/lib/hadoop-yarn\n",
    "!mkdir -p /opt/cloudera/log/hadoop-yarn\n",
    "!mkdir -p /opt/cloudera/log/hadoop-yarn/container\n",
    "\n",
    "!chmod -R 777 /opt/cloudera/lib/hadoop-yarn/yarn-nm-recovery\n",
    "!chmod -R 777 /opt/cloudera/lib/hadoop-yarn\n",
    "!chmod -R 777 /opt/cloudera/log/hadoop-yarn\n",
    "!chmod -R 777 /opt/cloudera/log/hadoop-yarn/container\n"
   ]
  },
  {
   "cell_type": "code",
   "execution_count": 19,
   "metadata": {
    "collapsed": false
   },
   "outputs": [
    {
     "data": {
      "text/plain": [
       "{'enable_config_alerts': True,\n",
       " 'log_threshold': 'INFO',\n",
       " 'max_log_backup_index': 10,\n",
       " 'max_log_size': 100,\n",
       " 'node_manager_java_heapsize': 268435456,\n",
       " 'node_manager_log_dir': '/opt/cloudera/log/hadoop-yarn',\n",
       " 'oom_heap_dump_dir': '/tmp',\n",
       " 'oom_heap_dump_enabled': False,\n",
       " 'yarn_nodemanager_local_dirs': '/opt/cloudera/lib/hadoop-yarn',\n",
       " 'yarn_nodemanager_log_dirs': '/opt/cloudera/log/hadoop-yarn/container',\n",
       " 'yarn_nodemanager_recovery_dir': '/opt/cloudera/lib/hadoop-yarn/yarn-nm-recovery',\n",
       " 'yarn_nodemanager_remote_app_log_dir': '/tmp/logs',\n",
       " 'yarn_nodemanager_remote_app_log_dir_suffix': 'logs'}"
      ]
     },
     "execution_count": 19,
     "metadata": {},
     "output_type": "execute_result"
    }
   ],
   "source": [
    "varYARN_NodeManager_Config = {\n",
    "    'node_manager_java_heapsize': 268435456,\n",
    "    'node_manager_log_dir': \"/opt/cloudera/log/hadoop-yarn\",\n",
    "    'yarn_nodemanager_log_dirs': \"/opt/cloudera/log/hadoop-yarn/container\",\n",
    "    'oom_heap_dump_dir': \"/tmp\",\n",
    "    'oom_heap_dump_enabled': False,\n",
    "    'max_log_backup_index': 10,\n",
    "    'max_log_size': 100,\n",
    "    'log_threshold': \"INFO\",\n",
    "    'yarn_nodemanager_local_dirs': \"/opt/cloudera/lib/hadoop-yarn\",\n",
    "    'yarn_nodemanager_recovery_dir': \"/opt/cloudera/lib/hadoop-yarn/yarn-nm-recovery\",\n",
    "    'yarn_nodemanager_remote_app_log_dir': \"/tmp/logs\",\n",
    "    'yarn_nodemanager_remote_app_log_dir_suffix': \"logs\",\n",
    "    'enable_config_alerts': True,\n",
    "}\n",
    "\n",
    "varYARN_NodeManager_Config"
   ]
  },
  {
   "cell_type": "code",
   "execution_count": null,
   "metadata": {
    "collapsed": true
   },
   "outputs": [],
   "source": []
  },
  {
   "cell_type": "code",
   "execution_count": 20,
   "metadata": {
    "collapsed": true
   },
   "outputs": [],
   "source": [
    "!mkdir -p /etc/hadoop\n",
    "!mkdir -p /opt/cloudera/log/hadoop-mapreduce/history\n",
    "\n",
    "!chmod -R 777 /etc/hadoop\n",
    "!chmod -R 777 /opt/cloudera/log/hadoop-mapreduce/history"
   ]
  },
  {
   "cell_type": "code",
   "execution_count": 22,
   "metadata": {
    "collapsed": false
   },
   "outputs": [
    {
     "data": {
      "text/plain": [
       "{'client_config_root_dir': '/etc/hadoop',\n",
       " 'enable_config_alerts': True,\n",
       " 'hadoop_job_history_dir': '/opt/cloudera/log/hadoop-mapreduce/history',\n",
       " 'mapred_submit_replication': 2,\n",
       " 'mapreduce_client_java_heapsize': 268435456,\n",
       " 'mapreduce_map_java_opts_max_heap': 268435456,\n",
       " 'mapreduce_reduce_java_opts_max_heap': 268435456,\n",
       " 'yarn_app_mapreduce_am_max_heap': 268435456}"
      ]
     },
     "execution_count": 22,
     "metadata": {},
     "output_type": "execute_result"
    }
   ],
   "source": [
    "varYARN_Gateway_Config = {\n",
    "    'mapred_submit_replication': 2,\n",
    "    'hadoop_job_history_dir': \"/opt/cloudera/log/hadoop-mapreduce/history\",\n",
    "    'client_config_root_dir': \"/etc/hadoop\",\n",
    "    'mapreduce_client_java_heapsize': 268435456,\n",
    "    'mapreduce_map_java_opts_max_heap': 268435456,\n",
    "    'mapreduce_reduce_java_opts_max_heap': 268435456,\n",
    "    'yarn_app_mapreduce_am_max_heap': 268435456,\n",
    "    'enable_config_alerts': True,\n",
    "}\n",
    "\n",
    "varYARN_Gateway_Config"
   ]
  },
  {
   "cell_type": "code",
   "execution_count": null,
   "metadata": {
    "collapsed": true
   },
   "outputs": [],
   "source": []
  },
  {
   "cell_type": "code",
   "execution_count": null,
   "metadata": {
    "collapsed": true
   },
   "outputs": [],
   "source": []
  },
  {
   "cell_type": "code",
   "execution_count": 23,
   "metadata": {
    "collapsed": false
   },
   "outputs": [
    {
     "data": {
      "text/plain": [
       "['pocd-cm581-dev-node1.poc-d.internal',\n",
       " 'pocd-cm581-dev-node2.poc-d.internal',\n",
       " 'pocd-cm581-dev-node3.poc-d.internal']"
      ]
     },
     "execution_count": 23,
     "metadata": {},
     "output_type": "execute_result"
    }
   ],
   "source": [
    "varManagementHost = \"pocd-cm581-dev-man1.poc-d.internal\"\n",
    "\n",
    "varComputeNodeHosts = [\n",
    "    \"pocd-cm581-dev-node1.poc-d.internal\",\n",
    "    \"pocd-cm581-dev-node2.poc-d.internal\",\n",
    "    \"pocd-cm581-dev-node3.poc-d.internal\",\n",
    "]\n",
    "\n",
    "varComputeNodeHosts"
   ]
  },
  {
   "cell_type": "code",
   "execution_count": null,
   "metadata": {
    "collapsed": true
   },
   "outputs": [],
   "source": []
  },
  {
   "cell_type": "code",
   "execution_count": 24,
   "metadata": {
    "collapsed": true
   },
   "outputs": [],
   "source": [
    "\n",
    "# Deploys YARN - RM, JobHistoryServer, NMs, gateways\n",
    "def deploy_yarn(cluster, yarn_service_name, yarn_service_config, yarn_rm_host, yarn_rm_config, yarn_jhs_host, yarn_jhs_config, yarn_nm_hosts, yarn_nm_config, yarn_gw_hosts, yarn_gw_config):\n",
    "\n",
    "   yarn_service = cluster.create_service(yarn_service_name, \"YARN\")\n",
    "   yarn_service.update_config(yarn_service_config)\n",
    "      \n",
    "   rm = yarn_service.get_role_config_group(\"{0}-RESOURCEMANAGER-BASE\".format(yarn_service_name))\n",
    "   rm.update_config(yarn_rm_config)\n",
    "   yarn_service.create_role(\"{0}-rm\".format(yarn_service_name), \"RESOURCEMANAGER\", yarn_rm_host)\n",
    "      \n",
    "   jhs = yarn_service.get_role_config_group(\"{0}-JOBHISTORY-BASE\".format(yarn_service_name))\n",
    "   jhs.update_config(yarn_jhs_config)\n",
    "   yarn_service.create_role(\"{0}-jhs\".format(yarn_service_name), \"JOBHISTORY\", yarn_jhs_host)\n",
    "   \n",
    "   nm = yarn_service.get_role_config_group(\"{0}-NODEMANAGER-BASE\".format(yarn_service_name))\n",
    "   nm.update_config(yarn_nm_config)\n",
    "   \n",
    "   nodemanager = 0\n",
    "   for host in yarn_nm_hosts:\n",
    "      nodemanager += 1\n",
    "      yarn_service.create_role(\"{0}-nm-\".format(yarn_service_name) + str(nodemanager), \"NODEMANAGER\", host)\n",
    "   \n",
    "   gw = yarn_service.get_role_config_group(\"{0}-GATEWAY-BASE\".format(yarn_service_name))\n",
    "   gw.update_config(yarn_gw_config)\n",
    "   \n",
    "   gateway = 0\n",
    "   for host in yarn_gw_hosts:\n",
    "      gateway += 1\n",
    "      yarn_service.create_role(\"{0}-gw-\".format(yarn_service_name) + str(gateway), \"GATEWAY\", host)\n",
    "   \n",
    "   return yarn_service\n"
   ]
  },
  {
   "cell_type": "code",
   "execution_count": 26,
   "metadata": {
    "collapsed": false
   },
   "outputs": [
    {
     "data": {
      "text/plain": [
       "<cm_api.endpoints.services.ApiService at 0x7f689c398fd0>"
      ]
     },
     "execution_count": 26,
     "metadata": {},
     "output_type": "execute_result"
    }
   ],
   "source": [
    "yarn_service = deploy_yarn(varCluster, \"YARN\", varYARNServiceConfig, \n",
    "    varManagementHost, varYARN_ResourceManager_Config, \n",
    "    varManagementHost, varYARN_JobHistoryManager_Config, \n",
    "    varComputeNodeHosts, varYARN_NodeManager_Config, \n",
    "    varComputeNodeHosts, varYARN_Gateway_Config)\n",
    "\n",
    "yarn_service"
   ]
  },
  {
   "cell_type": "code",
   "execution_count": null,
   "metadata": {
    "collapsed": true
   },
   "outputs": [],
   "source": []
  },
  {
   "cell_type": "code",
   "execution_count": 27,
   "metadata": {
    "collapsed": false
   },
   "outputs": [
    {
     "data": {
      "text/plain": [
       "<cm_api.endpoints.types.ApiCommand at 0x7f689c358390>"
      ]
     },
     "execution_count": 27,
     "metadata": {},
     "output_type": "execute_result"
    }
   ],
   "source": [
    "varCluster.start().wait()"
   ]
  },
  {
   "cell_type": "code",
   "execution_count": 28,
   "metadata": {
    "collapsed": true
   },
   "outputs": [],
   "source": [
    "varTimeOutInSeconds = 180\n",
    "cmd = varCluster.deploy_client_config()\n",
    "if not cmd.wait(varTimeOutInSeconds).success:\n",
    "    print \"Failed to deploy client configs for {0}\".format(varCluster.name)\n"
   ]
  },
  {
   "cell_type": "code",
   "execution_count": null,
   "metadata": {
    "collapsed": true
   },
   "outputs": [],
   "source": []
  }
 ],
 "metadata": {
  "anaconda-cloud": {},
  "kernelspec": {
   "display_name": "Python [default]",
   "language": "python",
   "name": "python2"
  },
  "language_info": {
   "codemirror_mode": {
    "name": "ipython",
    "version": 2
   },
   "file_extension": ".py",
   "mimetype": "text/x-python",
   "name": "python",
   "nbconvert_exporter": "python",
   "pygments_lexer": "ipython2",
   "version": "2.7.12"
  }
 },
 "nbformat": 4,
 "nbformat_minor": 0
}
