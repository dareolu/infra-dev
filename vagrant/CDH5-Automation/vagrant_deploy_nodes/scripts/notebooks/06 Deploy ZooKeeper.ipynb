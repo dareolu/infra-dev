{
 "cells": [
  {
   "cell_type": "markdown",
   "metadata": {},
   "source": [
    "# Deploy Zookeeper"
   ]
  },
  {
   "cell_type": "code",
   "execution_count": 1,
   "metadata": {
    "collapsed": true
   },
   "outputs": [],
   "source": [
    "import pprint, time, sys"
   ]
  },
  {
   "cell_type": "code",
   "execution_count": 2,
   "metadata": {
    "collapsed": false
   },
   "outputs": [
    {
     "data": {
      "text/plain": [
       "'/vagrant/notebooks/cloudera'"
      ]
     },
     "execution_count": 2,
     "metadata": {},
     "output_type": "execute_result"
    }
   ],
   "source": [
    "varClouderaPath = \"/vagrant/notebooks/cloudera\"\n",
    "sys.path.append(varClouderaPath)\n",
    "\n",
    "varClouderaPath"
   ]
  },
  {
   "cell_type": "code",
   "execution_count": 3,
   "metadata": {
    "collapsed": false
   },
   "outputs": [
    {
     "data": {
      "text/plain": [
       "['',\n",
       " '/opt/anaconda/lib/python27.zip',\n",
       " '/opt/anaconda/lib/python2.7',\n",
       " '/opt/anaconda/lib/python2.7/plat-linux2',\n",
       " '/opt/anaconda/lib/python2.7/lib-tk',\n",
       " '/opt/anaconda/lib/python2.7/lib-old',\n",
       " '/opt/anaconda/lib/python2.7/lib-dynload',\n",
       " '/opt/anaconda/lib/python2.7/site-packages',\n",
       " '/opt/anaconda/lib/python2.7/site-packages/Sphinx-1.4.1-py2.7.egg',\n",
       " '/opt/anaconda/lib/python2.7/site-packages/setuptools-23.0.0-py2.7.egg',\n",
       " '/opt/anaconda/lib/python2.7/site-packages/IPython/extensions',\n",
       " '/root/.ipython',\n",
       " '/vagrant/notebooks/cloudera']"
      ]
     },
     "execution_count": 3,
     "metadata": {},
     "output_type": "execute_result"
    }
   ],
   "source": [
    "sys.path"
   ]
  },
  {
   "cell_type": "code",
   "execution_count": null,
   "metadata": {
    "collapsed": true
   },
   "outputs": [],
   "source": []
  },
  {
   "cell_type": "code",
   "execution_count": 4,
   "metadata": {
    "collapsed": false
   },
   "outputs": [
    {
     "name": "stdout",
     "output_type": "stream",
     "text": [
      "             total       used       free     shared    buffers     cached\r\n",
      "Mem:       3922528    2193800    1728728        164      55204    1688956\r\n",
      "-/+ buffers/cache:     449640    3472888 \r\n",
      "Swap:      1015804          0    1015804 \r\n"
     ]
    }
   ],
   "source": [
    "!free"
   ]
  },
  {
   "cell_type": "markdown",
   "metadata": {},
   "source": [
    "# Connect to Cloudera Manager"
   ]
  },
  {
   "cell_type": "code",
   "execution_count": 19,
   "metadata": {
    "collapsed": true
   },
   "outputs": [],
   "source": [
    "from cm_api.endpoints.services import ApiService\n",
    "from cm_api.endpoints.services import ApiServiceSetupInfo\n",
    "from cm_api.api_client import ApiResource"
   ]
  },
  {
   "cell_type": "code",
   "execution_count": 20,
   "metadata": {
    "collapsed": false
   },
   "outputs": [
    {
     "data": {
      "text/plain": [
       "<cm_api.endpoints.cms.ClouderaManager at 0x7f548005f3d0>"
      ]
     },
     "execution_count": 20,
     "metadata": {},
     "output_type": "execute_result"
    }
   ],
   "source": [
    "varFullHost = \"pocd-cm581-dev-manager.poc-d.internal\"\n",
    "\n",
    "varAdminUser = \"admin\"\n",
    "varAdminPassword = \"admin\"\n",
    "\n",
    "varApiResource = ApiResource(varFullHost, version=10, username=varAdminUser, password=varAdminPassword)\n",
    "varManager = varApiResource.get_cloudera_manager()\n",
    "varManager"
   ]
  },
  {
   "cell_type": "code",
   "execution_count": null,
   "metadata": {
    "collapsed": true
   },
   "outputs": [],
   "source": []
  },
  {
   "cell_type": "code",
   "execution_count": 7,
   "metadata": {
    "collapsed": true
   },
   "outputs": [],
   "source": [
    "# Get cluster"
   ]
  },
  {
   "cell_type": "code",
   "execution_count": 21,
   "metadata": {
    "collapsed": true
   },
   "outputs": [],
   "source": [
    "varClusterName = \"POC-D Cluster\"\n"
   ]
  },
  {
   "cell_type": "code",
   "execution_count": 22,
   "metadata": {
    "collapsed": false
   },
   "outputs": [],
   "source": [
    "varCluster = varApiResource.get_cluster(varClusterName)\n"
   ]
  },
  {
   "cell_type": "code",
   "execution_count": null,
   "metadata": {
    "collapsed": true
   },
   "outputs": [],
   "source": []
  },
  {
   "cell_type": "code",
   "execution_count": 23,
   "metadata": {
    "collapsed": true
   },
   "outputs": [],
   "source": [
    "!mkdir -p /opt/cloudera/lib/zookeeper\n",
    "!mkdir -p /opt/cloudera/data/zookeeper\n",
    "!mkdir -p /opt/cloudera/log/zookeeper\n",
    "\n",
    "!chmod -R 777 /opt/cloudera/lib/zookeeper\n",
    "!chmod -R 777 /opt/cloudera/data/zookeeper\n",
    "!chmod -R 777 /opt/cloudera/log/zookeeper"
   ]
  },
  {
   "cell_type": "code",
   "execution_count": 24,
   "metadata": {
    "collapsed": true
   },
   "outputs": [],
   "source": [
    "varZooKeeperServiceConfig = {\n",
    "    'zookeeper_datadir_autocreate': 'true',\n",
    "    'enable_config_alerts': \"true\",\n",
    "    'process_groupname': \"zookeeper\",\n",
    "    'process_username': \"zookeeper\",\n",
    "}\n"
   ]
  },
  {
   "cell_type": "code",
   "execution_count": 25,
   "metadata": {
    "collapsed": false
   },
   "outputs": [],
   "source": [
    "varZooKeeperRoleConfig = {\n",
    "    'quorumPort': 3181,\n",
    "    'electionPort': 4181,\n",
    "    'clientPort': 2181,\n",
    "    'dataLogDir': \"/opt/cloudera/lib/zookeeper\",\n",
    "    'dataDir': \"/opt/cloudera/data/zookeeper\",\n",
    "    'maxClientCnxns': 1024,\n",
    "    'zookeeper_server_java_heapsize': 268435456,\n",
    "    'oom_heap_dump_dir': \"/tmp\",\n",
    "    'oom_heap_dump_enabled': False,\n",
    "    'zk_server_log_dir': \"/opt/cloudera/log/zookeeper\",\n",
    "    'max_log_backup_index': 10,\n",
    "    'max_log_size': 100,\n",
    "    'log_threshold': \"INFO\",\n",
    "    'enable_config_alerts': \"true\",\n",
    "}\n"
   ]
  },
  {
   "cell_type": "code",
   "execution_count": 29,
   "metadata": {
    "collapsed": false
   },
   "outputs": [
    {
     "data": {
      "text/plain": [
       "['pocd-cm581-dev-man1.poc-d.internal']"
      ]
     },
     "execution_count": 29,
     "metadata": {},
     "output_type": "execute_result"
    }
   ],
   "source": [
    "varZK_Name = \"ZooKeeper\"\n",
    "varZK_Hosts = \"pocd-cm581-dev-man1.poc-d.internal\".split(',')\n",
    "varZK_Hosts"
   ]
  },
  {
   "cell_type": "code",
   "execution_count": 34,
   "metadata": {
    "collapsed": false
   },
   "outputs": [
    {
     "data": {
      "text/plain": [
       "<cm_api.endpoints.services.ApiService at 0x7f5478baf4d0>"
      ]
     },
     "execution_count": 34,
     "metadata": {},
     "output_type": "execute_result"
    }
   ],
   "source": [
    "varZOOKEEPER = varCluster.create_service(varZK_Name, \"ZOOKEEPER\")\n",
    "varZOOKEEPER.update_config(varZooKeeperServiceConfig)\n",
    "varZOOKEEPER"
   ]
  },
  {
   "cell_type": "code",
   "execution_count": 35,
   "metadata": {
    "collapsed": true
   },
   "outputs": [],
   "source": [
    "varZKID = 0\n",
    "for zkhost in varZK_Hosts:\n",
    "    varZKID += 1\n",
    "    varZOOKEEPER.create_role(varZK_Name + \"-\" + str(varZKID), \"SERVER\", zkhost)\n"
   ]
  },
  {
   "cell_type": "code",
   "execution_count": 43,
   "metadata": {
    "collapsed": false
   },
   "outputs": [
    {
     "data": {
      "text/plain": [
       "u'ZooKeeper-SERVER-BASE'"
      ]
     },
     "execution_count": 43,
     "metadata": {},
     "output_type": "execute_result"
    }
   ],
   "source": [
    "varTest = varZOOKEEPER.get_all_role_config_groups()\n",
    "varTest[0].name"
   ]
  },
  {
   "cell_type": "code",
   "execution_count": 44,
   "metadata": {
    "collapsed": false
   },
   "outputs": [
    {
     "data": {
      "text/plain": [
       "{u'clientPort': u'2181',\n",
       " u'dataDir': u'/opt/cloudera/data/zookeeper',\n",
       " u'dataLogDir': u'/opt/cloudera/lib/zookeeper',\n",
       " u'electionPort': u'4181',\n",
       " u'enable_config_alerts': u'true',\n",
       " u'log_threshold': u'INFO',\n",
       " u'maxClientCnxns': u'1024',\n",
       " u'max_log_backup_index': u'10',\n",
       " u'max_log_size': u'100',\n",
       " u'oom_heap_dump_dir': u'/tmp',\n",
       " u'oom_heap_dump_enabled': u'false',\n",
       " u'quorumPort': u'3181',\n",
       " u'zk_server_log_dir': u'/opt/cloudera/log/zookeeper',\n",
       " u'zookeeper_server_java_heapsize': u'268435456'}"
      ]
     },
     "execution_count": 44,
     "metadata": {},
     "output_type": "execute_result"
    }
   ],
   "source": [
    "varZOOKEEPER.get_role_config_group(\"ZooKeeper-SERVER-BASE\").update_config(varZooKeeperRoleConfig)"
   ]
  },
  {
   "cell_type": "code",
   "execution_count": 45,
   "metadata": {
    "collapsed": false
   },
   "outputs": [
    {
     "data": {
      "text/plain": [
       "<cm_api.endpoints.types.ApiCommand at 0x7f548005f810>"
      ]
     },
     "execution_count": 45,
     "metadata": {},
     "output_type": "execute_result"
    }
   ],
   "source": [
    "varZOOKEEPER.init_zookeeper()"
   ]
  },
  {
   "cell_type": "code",
   "execution_count": 46,
   "metadata": {
    "collapsed": false
   },
   "outputs": [
    {
     "data": {
      "text/plain": [
       "<cm_api.endpoints.types.ApiCommand at 0x7f5478baffd0>"
      ]
     },
     "execution_count": 46,
     "metadata": {},
     "output_type": "execute_result"
    }
   ],
   "source": [
    "varCluster.start().wait()"
   ]
  },
  {
   "cell_type": "code",
   "execution_count": null,
   "metadata": {
    "collapsed": true
   },
   "outputs": [],
   "source": []
  }
 ],
 "metadata": {
  "anaconda-cloud": {},
  "kernelspec": {
   "display_name": "Python [default]",
   "language": "python",
   "name": "python2"
  },
  "language_info": {
   "codemirror_mode": {
    "name": "ipython",
    "version": 2
   },
   "file_extension": ".py",
   "mimetype": "text/x-python",
   "name": "python",
   "nbconvert_exporter": "python",
   "pygments_lexer": "ipython2",
   "version": "2.7.12"
  }
 },
 "nbformat": 4,
 "nbformat_minor": 0
}
