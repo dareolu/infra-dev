{
 "cells": [
  {
   "cell_type": "markdown",
   "metadata": {},
   "source": [
    "# Deploy Spark"
   ]
  },
  {
   "cell_type": "code",
   "execution_count": 1,
   "metadata": {
    "collapsed": true
   },
   "outputs": [],
   "source": [
    "import pprint, time, sys"
   ]
  },
  {
   "cell_type": "code",
   "execution_count": 2,
   "metadata": {
    "collapsed": false
   },
   "outputs": [
    {
     "data": {
      "text/plain": [
       "'/vagrant/notebooks/cloudera'"
      ]
     },
     "execution_count": 2,
     "metadata": {},
     "output_type": "execute_result"
    }
   ],
   "source": [
    "varClouderaPath = \"/vagrant/notebooks/cloudera\"\n",
    "sys.path.append(varClouderaPath)\n",
    "\n",
    "varClouderaPath"
   ]
  },
  {
   "cell_type": "code",
   "execution_count": 3,
   "metadata": {
    "collapsed": false
   },
   "outputs": [
    {
     "data": {
      "text/plain": [
       "['',\n",
       " '/opt/anaconda/lib/python27.zip',\n",
       " '/opt/anaconda/lib/python2.7',\n",
       " '/opt/anaconda/lib/python2.7/plat-linux2',\n",
       " '/opt/anaconda/lib/python2.7/lib-tk',\n",
       " '/opt/anaconda/lib/python2.7/lib-old',\n",
       " '/opt/anaconda/lib/python2.7/lib-dynload',\n",
       " '/opt/anaconda/lib/python2.7/site-packages',\n",
       " '/opt/anaconda/lib/python2.7/site-packages/Sphinx-1.4.1-py2.7.egg',\n",
       " '/opt/anaconda/lib/python2.7/site-packages/setuptools-23.0.0-py2.7.egg',\n",
       " '/opt/anaconda/lib/python2.7/site-packages/IPython/extensions',\n",
       " '/root/.ipython',\n",
       " '/vagrant/notebooks/cloudera']"
      ]
     },
     "execution_count": 3,
     "metadata": {},
     "output_type": "execute_result"
    }
   ],
   "source": [
    "sys.path"
   ]
  },
  {
   "cell_type": "code",
   "execution_count": null,
   "metadata": {
    "collapsed": true
   },
   "outputs": [],
   "source": []
  },
  {
   "cell_type": "code",
   "execution_count": 4,
   "metadata": {
    "collapsed": false
   },
   "outputs": [
    {
     "name": "stdout",
     "output_type": "stream",
     "text": [
      "             total       used       free     shared    buffers     cached\r\n",
      "Mem:       3922528    2308228    1614300        164      62008    1689136\r\n",
      "-/+ buffers/cache:     557084    3365444 \r\n",
      "Swap:      1015804          0    1015804 \r\n"
     ]
    }
   ],
   "source": [
    "!free"
   ]
  },
  {
   "cell_type": "markdown",
   "metadata": {},
   "source": [
    "# Connect to Cloudera Manager"
   ]
  },
  {
   "cell_type": "code",
   "execution_count": 5,
   "metadata": {
    "collapsed": true
   },
   "outputs": [],
   "source": [
    "from cm_api.endpoints.services import ApiService\n",
    "from cm_api.endpoints.services import ApiServiceSetupInfo\n",
    "from cm_api.api_client import ApiResource"
   ]
  },
  {
   "cell_type": "code",
   "execution_count": 6,
   "metadata": {
    "collapsed": false
   },
   "outputs": [
    {
     "data": {
      "text/plain": [
       "<cm_api.endpoints.cms.ClouderaManager at 0x7fa07021ef90>"
      ]
     },
     "execution_count": 6,
     "metadata": {},
     "output_type": "execute_result"
    }
   ],
   "source": [
    "varFullHost = \"pocd-cm581-dev-manager.poc-d.internal\"\n",
    "\n",
    "varAdminUser = \"admin\"\n",
    "varAdminPassword = \"admin\"\n",
    "\n",
    "varApiResource = ApiResource(varFullHost, version=10, username=varAdminUser, password=varAdminPassword)\n",
    "varManager = varApiResource.get_cloudera_manager()\n",
    "varManager"
   ]
  },
  {
   "cell_type": "code",
   "execution_count": null,
   "metadata": {
    "collapsed": true
   },
   "outputs": [],
   "source": []
  },
  {
   "cell_type": "code",
   "execution_count": null,
   "metadata": {
    "collapsed": true
   },
   "outputs": [],
   "source": [
    "# Get cluster"
   ]
  },
  {
   "cell_type": "code",
   "execution_count": 7,
   "metadata": {
    "collapsed": true
   },
   "outputs": [],
   "source": [
    "varClusterName = \"POC-D Cluster\"\n"
   ]
  },
  {
   "cell_type": "code",
   "execution_count": 8,
   "metadata": {
    "collapsed": false
   },
   "outputs": [],
   "source": [
    "varCluster = varApiResource.get_cluster(varClusterName)\n"
   ]
  },
  {
   "cell_type": "code",
   "execution_count": null,
   "metadata": {
    "collapsed": true
   },
   "outputs": [],
   "source": []
  },
  {
   "cell_type": "code",
   "execution_count": 15,
   "metadata": {
    "collapsed": false
   },
   "outputs": [
    {
     "data": {
      "text/plain": [
       "{'process_groupname': 'spark',\n",
       " 'process_username': 'spark',\n",
       " 'spark_history_log_dir': '/tmp',\n",
       " 'spark_jar_hdfs_path': '',\n",
       " 'yarn_service': 'YARN'}"
      ]
     },
     "execution_count": 15,
     "metadata": {},
     "output_type": "execute_result"
    }
   ],
   "source": [
    "varSPARKServiceConfig = {\n",
    "  'process_groupname': \"spark\",\n",
    "  'process_username': \"spark\",\n",
    "  'spark_history_log_dir': \"/tmp\",\n",
    "  'spark_jar_hdfs_path': \"\",\n",
    "  'yarn_service': \"YARN\",\n",
    "}\n",
    "\n",
    "varSPARKServiceConfig"
   ]
  },
  {
   "cell_type": "code",
   "execution_count": 20,
   "metadata": {
    "collapsed": false
   },
   "outputs": [],
   "source": []
  },
  {
   "cell_type": "code",
   "execution_count": 13,
   "metadata": {
    "collapsed": true
   },
   "outputs": [],
   "source": [
    "!mkdir -p /opt/cloudera/log/spark\n",
    "!chmod -R 777 /opt/cloudera/log/spark\n"
   ]
  },
  {
   "cell_type": "code",
   "execution_count": 14,
   "metadata": {
    "collapsed": false
   },
   "outputs": [
    {
     "data": {
      "text/plain": [
       "{'history_server_max_heapsize': 268435456,\n",
       " 'log_dir': '/opt/cloudera/log/spark',\n",
       " 'log_threshold': 'INFO',\n",
       " 'max_log_backup_index': 10,\n",
       " 'max_log_size': 100}"
      ]
     },
     "execution_count": 14,
     "metadata": {},
     "output_type": "execute_result"
    }
   ],
   "source": [
    "varSPARK_History_Config = {\n",
    "    'history_server_max_heapsize': 268435456,\n",
    "    'log_dir': \"/opt/cloudera/log/spark\",\n",
    "    'max_log_backup_index': 10,\n",
    "    'max_log_size': 100,\n",
    "    'log_threshold': \"INFO\",\n",
    "}\n",
    "\n",
    "varSPARK_History_Config"
   ]
  },
  {
   "cell_type": "code",
   "execution_count": null,
   "metadata": {
    "collapsed": true
   },
   "outputs": [],
   "source": []
  },
  {
   "cell_type": "code",
   "execution_count": 11,
   "metadata": {
    "collapsed": true
   },
   "outputs": [],
   "source": [
    "!mkdir -p /etc/spark\n",
    "!chmod -R 777 /etc/spark"
   ]
  },
  {
   "cell_type": "code",
   "execution_count": 12,
   "metadata": {
    "collapsed": false
   },
   "outputs": [
    {
     "data": {
      "text/plain": [
       "{'client_config_root_dir': '/etc/spark', 'spark_history_enabled': True}"
      ]
     },
     "execution_count": 12,
     "metadata": {},
     "output_type": "execute_result"
    }
   ],
   "source": [
    "varSPARK_Gateway_Config = {\n",
    "    'client_config_root_dir': \"/etc/spark\",\n",
    "    'spark_history_enabled': True,\n",
    "}\n",
    "\n",
    "varSPARK_Gateway_Config"
   ]
  },
  {
   "cell_type": "code",
   "execution_count": null,
   "metadata": {
    "collapsed": true
   },
   "outputs": [],
   "source": []
  },
  {
   "cell_type": "code",
   "execution_count": 17,
   "metadata": {
    "collapsed": false
   },
   "outputs": [
    {
     "data": {
      "text/plain": [
       "['pocd-cm581-dev-node1.poc-d.internal',\n",
       " 'pocd-cm581-dev-node2.poc-d.internal',\n",
       " 'pocd-cm581-dev-node3.poc-d.internal']"
      ]
     },
     "execution_count": 17,
     "metadata": {},
     "output_type": "execute_result"
    }
   ],
   "source": [
    "varManagementHost = \"pocd-cm581-dev-man1.poc-d.internal\"\n",
    "\n",
    "varSparkHosts = [\n",
    "    \"pocd-cm581-dev-node1.poc-d.internal\",\n",
    "    \"pocd-cm581-dev-node2.poc-d.internal\",\n",
    "    \"pocd-cm581-dev-node3.poc-d.internal\",\n",
    "]\n",
    "\n",
    "varSparkHosts"
   ]
  },
  {
   "cell_type": "code",
   "execution_count": null,
   "metadata": {
    "collapsed": true
   },
   "outputs": [],
   "source": []
  },
  {
   "cell_type": "code",
   "execution_count": 10,
   "metadata": {
    "collapsed": true
   },
   "outputs": [],
   "source": [
    "\n",
    "def deploy_spark(cluster, spark_service_name, spark_service_config, \n",
    "                 spark_history_host, spark_history_config, \n",
    "                 spark_gw_hosts, spark_gw_config):\n",
    "    \n",
    "    spark_service = cluster.create_service(spark_service_name, \"SPARK_ON_YARN\")\n",
    "    spark_service.update_config(spark_service_config)\n",
    "\n",
    "    spark_service.create_role(\"{0}-sh\".format(spark_service_name), \"SPARK_YARN_HISTORY_SERVER\", spark_history_host)\n",
    "    \n",
    "    gateway = 0\n",
    "    for host in spark_gw_hosts:\n",
    "        gateway += 1\n",
    "        spark_service.create_role(\"{0}-gw-\".format(spark_service_name) + str(gateway), \"GATEWAY\", host)\n",
    "\n",
    "    for group in spark_service.get_all_role_config_groups():\n",
    "        if group.roleType == \"SPARK_YARN_HISTORY_SERVER\":\n",
    "            group.update_config(spark_history_config)\n",
    "        elif group.roleType == \"GATEWAY\":\n",
    "            group.update_config(spark_gw_config)\n",
    "    \n",
    "    #TODO - CreateSparkUserDirCommand, SparkUploadJarServiceCommand???\n",
    "    \n",
    "    return spark_service\n"
   ]
  },
  {
   "cell_type": "code",
   "execution_count": 18,
   "metadata": {
    "collapsed": false
   },
   "outputs": [
    {
     "data": {
      "text/plain": [
       "<cm_api.endpoints.services.ApiService at 0x7fa07022ab10>"
      ]
     },
     "execution_count": 18,
     "metadata": {},
     "output_type": "execute_result"
    }
   ],
   "source": [
    "spark_service = deploy_spark(varCluster, \"SPARK\", varSPARKServiceConfig,\n",
    "    varManagementHost, varSPARK_History_Config, \n",
    "    varSparkHosts, varSPARK_Gateway_Config)\n",
    "\n",
    "spark_service"
   ]
  },
  {
   "cell_type": "code",
   "execution_count": null,
   "metadata": {
    "collapsed": true
   },
   "outputs": [],
   "source": []
  },
  {
   "cell_type": "code",
   "execution_count": 64,
   "metadata": {
    "collapsed": false
   },
   "outputs": [
    {
     "data": {
      "text/plain": [
       "<cm_api.endpoints.types.ApiCommand at 0x7f1dd0171550>"
      ]
     },
     "execution_count": 64,
     "metadata": {},
     "output_type": "execute_result"
    }
   ],
   "source": [
    "varCluster.start().wait()"
   ]
  },
  {
   "cell_type": "code",
   "execution_count": null,
   "metadata": {
    "collapsed": true
   },
   "outputs": [],
   "source": []
  }
 ],
 "metadata": {
  "anaconda-cloud": {},
  "kernelspec": {
   "display_name": "Python [default]",
   "language": "python",
   "name": "python2"
  },
  "language_info": {
   "codemirror_mode": {
    "name": "ipython",
    "version": 2
   },
   "file_extension": ".py",
   "mimetype": "text/x-python",
   "name": "python",
   "nbconvert_exporter": "python",
   "pygments_lexer": "ipython2",
   "version": "2.7.12"
  }
 },
 "nbformat": 4,
 "nbformat_minor": 0
}
