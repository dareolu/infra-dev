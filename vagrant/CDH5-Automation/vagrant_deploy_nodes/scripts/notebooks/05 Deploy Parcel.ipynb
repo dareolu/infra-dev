{
 "cells": [
  {
   "cell_type": "markdown",
   "metadata": {},
   "source": [
    "# Deploy Parcel"
   ]
  },
  {
   "cell_type": "code",
   "execution_count": 1,
   "metadata": {
    "collapsed": true
   },
   "outputs": [],
   "source": [
    "import pprint, time, sys"
   ]
  },
  {
   "cell_type": "code",
   "execution_count": 2,
   "metadata": {
    "collapsed": false
   },
   "outputs": [
    {
     "data": {
      "text/plain": [
       "'/vagrant/notebooks/cloudera'"
      ]
     },
     "execution_count": 2,
     "metadata": {},
     "output_type": "execute_result"
    }
   ],
   "source": [
    "varClouderaPath = \"/vagrant/notebooks/cloudera\"\n",
    "sys.path.append(varClouderaPath)\n",
    "\n",
    "varClouderaPath"
   ]
  },
  {
   "cell_type": "code",
   "execution_count": 3,
   "metadata": {
    "collapsed": false
   },
   "outputs": [
    {
     "data": {
      "text/plain": [
       "['',\n",
       " '/opt/anaconda/lib/python27.zip',\n",
       " '/opt/anaconda/lib/python2.7',\n",
       " '/opt/anaconda/lib/python2.7/plat-linux2',\n",
       " '/opt/anaconda/lib/python2.7/lib-tk',\n",
       " '/opt/anaconda/lib/python2.7/lib-old',\n",
       " '/opt/anaconda/lib/python2.7/lib-dynload',\n",
       " '/opt/anaconda/lib/python2.7/site-packages',\n",
       " '/opt/anaconda/lib/python2.7/site-packages/Sphinx-1.4.1-py2.7.egg',\n",
       " '/opt/anaconda/lib/python2.7/site-packages/setuptools-23.0.0-py2.7.egg',\n",
       " '/opt/anaconda/lib/python2.7/site-packages/IPython/extensions',\n",
       " '/root/.ipython',\n",
       " '/vagrant/notebooks/cloudera']"
      ]
     },
     "execution_count": 3,
     "metadata": {},
     "output_type": "execute_result"
    }
   ],
   "source": [
    "sys.path"
   ]
  },
  {
   "cell_type": "code",
   "execution_count": null,
   "metadata": {
    "collapsed": true
   },
   "outputs": [],
   "source": []
  },
  {
   "cell_type": "markdown",
   "metadata": {},
   "source": [
    "# Connect to Cloudera Manager"
   ]
  },
  {
   "cell_type": "code",
   "execution_count": 4,
   "metadata": {
    "collapsed": true
   },
   "outputs": [],
   "source": [
    "from cm_api.endpoints.services import ApiService\n",
    "from cm_api.endpoints.services import ApiServiceSetupInfo\n",
    "from cm_api.api_client import ApiResource"
   ]
  },
  {
   "cell_type": "code",
   "execution_count": 5,
   "metadata": {
    "collapsed": false
   },
   "outputs": [
    {
     "data": {
      "text/plain": [
       "<cm_api.endpoints.cms.ClouderaManager at 0x7fbd9c53ef90>"
      ]
     },
     "execution_count": 5,
     "metadata": {},
     "output_type": "execute_result"
    }
   ],
   "source": [
    "varFullHost = \"pocd-cm581-dev-manager.poc-d.internal\"\n",
    "\n",
    "varAdminUser = \"admin\"\n",
    "varAdminPassword = \"admin\"\n",
    "\n",
    "varApiResource = ApiResource(varFullHost, version=10, username=varAdminUser, password=varAdminPassword)\n",
    "varManager = varApiResource.get_cloudera_manager()\n",
    "varManager"
   ]
  },
  {
   "cell_type": "code",
   "execution_count": null,
   "metadata": {
    "collapsed": true
   },
   "outputs": [],
   "source": []
  },
  {
   "cell_type": "code",
   "execution_count": 7,
   "metadata": {
    "collapsed": true
   },
   "outputs": [],
   "source": [
    "# Get cluster"
   ]
  },
  {
   "cell_type": "code",
   "execution_count": 6,
   "metadata": {
    "collapsed": true
   },
   "outputs": [],
   "source": [
    "varClusterName = \"POC-D Cluster\"\n"
   ]
  },
  {
   "cell_type": "code",
   "execution_count": 7,
   "metadata": {
    "collapsed": false
   },
   "outputs": [],
   "source": [
    "varCluster = varApiResource.get_cluster(varClusterName)\n"
   ]
  },
  {
   "cell_type": "code",
   "execution_count": 8,
   "metadata": {
    "collapsed": true
   },
   "outputs": [],
   "source": [
    "# CDH-5.8.0-1.cdh5.8.0.p0.42-el6.parcel\n",
    "varParcelVersion = \"5.8.0-1.cdh5.8.0.p0.42\""
   ]
  },
  {
   "cell_type": "code",
   "execution_count": 11,
   "metadata": {
    "collapsed": false
   },
   "outputs": [],
   "source": [
    "varParcels = [\n",
    "   { 'name' : \"CDH\", 'version' : varParcelVersion },\n",
    "    #{ 'name' : \"CDH\", 'version' : \"5.0.1-1.cdh5.0.1.p0.47\" },\n",
    "    #{ 'name' : \"ACCUMULO\", 'version' : \"1.4.3-cdh4.3.0-beta-3\"}\n",
    "]\n"
   ]
  },
  {
   "cell_type": "code",
   "execution_count": 10,
   "metadata": {
    "collapsed": false
   },
   "outputs": [],
   "source": [
    "def deploy_parcels(cluster, parcels):\n",
    "   for parcel in parcels:\n",
    "      p = cluster.get_parcel(parcel['name'], parcel['version'])\n",
    "      p.start_download()\n",
    "      while True:\n",
    "         p = cluster.get_parcel(parcel['name'], parcel['version'])\n",
    "         if p.stage == \"DOWNLOADED\":\n",
    "            break\n",
    "         if p.state.errors:\n",
    "            raise Exception(str(p.state.errors))\n",
    "         print \"Downloading %s: %s / %s\" % (parcel['name'], p.state.progress, p.state.totalProgress)\n",
    "         time.sleep(15)\n",
    "      print \"Downloaded %s\" % (parcel['name'])\n",
    "      p.start_distribution()\n",
    "      while True:\n",
    "         p = cluster.get_parcel(parcel['name'], parcel['version'])\n",
    "         if p.stage == \"DISTRIBUTED\":\n",
    "            break\n",
    "         if p.state.errors:\n",
    "            raise Exception(str(p.state.errors))\n",
    "         print \"Distributing %s: %s / %s\" % (parcel['name'], p.state.progress, p.state.totalProgress)\n",
    "         time.sleep(15)\n",
    "      print \"Distributed %s\" % (parcel['name'])\n",
    "      p.activate()\n"
   ]
  },
  {
   "cell_type": "code",
   "execution_count": 12,
   "metadata": {
    "collapsed": false
   },
   "outputs": [
    {
     "name": "stdout",
     "output_type": "stream",
     "text": [
      "Downloading CDH: 24576 / 1488562357\n",
      "Downloading CDH: 684417024 / 1488562357\n",
      "Downloading CDH: 1223942144 / 1488562357\n",
      "Downloading CDH: 1488562357 / 1488562357\n",
      "Downloading CDH: 1488562357 / 1488562357\n",
      "Downloaded CDH\n",
      "Distributing CDH: 1250 / 2500\n",
      "Distributing CDH: 1250 / 2500\n",
      "Distributing CDH: 1250 / 2500\n",
      "Distributing CDH: 1250 / 2500\n",
      "Distributing CDH: 1250 / 2500\n",
      "Distributing CDH: 1250 / 2500\n",
      "Distributing CDH: 1750 / 2500\n",
      "Distributing CDH: 1750 / 2500\n",
      "Distributing CDH: 2000 / 2500\n",
      "Distributed CDH\n"
     ]
    }
   ],
   "source": [
    "deploy_parcels(varCluster, varParcels)"
   ]
  },
  {
   "cell_type": "code",
   "execution_count": null,
   "metadata": {
    "collapsed": true
   },
   "outputs": [],
   "source": []
  }
 ],
 "metadata": {
  "anaconda-cloud": {},
  "kernelspec": {
   "display_name": "Python [default]",
   "language": "python",
   "name": "python2"
  },
  "language_info": {
   "codemirror_mode": {
    "name": "ipython",
    "version": 2
   },
   "file_extension": ".py",
   "mimetype": "text/x-python",
   "name": "python",
   "nbconvert_exporter": "python",
   "pygments_lexer": "ipython2",
   "version": "2.7.12"
  }
 },
 "nbformat": 4,
 "nbformat_minor": 0
}
