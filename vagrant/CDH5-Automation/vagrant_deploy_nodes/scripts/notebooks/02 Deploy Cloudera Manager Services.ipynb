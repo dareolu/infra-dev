{
 "cells": [
  {
   "cell_type": "markdown",
   "metadata": {},
   "source": [
    "# 02 Deploy Cloudera Manager Services"
   ]
  },
  {
   "cell_type": "code",
   "execution_count": 15,
   "metadata": {
    "collapsed": true
   },
   "outputs": [],
   "source": [
    "import pprint, time, sys"
   ]
  },
  {
   "cell_type": "code",
   "execution_count": 16,
   "metadata": {
    "collapsed": false
   },
   "outputs": [
    {
     "data": {
      "text/plain": [
       "'/vagrant/notebooks/cloudera'"
      ]
     },
     "execution_count": 16,
     "metadata": {},
     "output_type": "execute_result"
    }
   ],
   "source": [
    "varClouderaPath = \"/vagrant/notebooks/cloudera\"\n",
    "sys.path.append(varClouderaPath)\n",
    "\n",
    "varClouderaPath"
   ]
  },
  {
   "cell_type": "code",
   "execution_count": 17,
   "metadata": {
    "collapsed": false
   },
   "outputs": [
    {
     "data": {
      "text/plain": [
       "['',\n",
       " '/opt/anaconda/lib/python27.zip',\n",
       " '/opt/anaconda/lib/python2.7',\n",
       " '/opt/anaconda/lib/python2.7/plat-linux2',\n",
       " '/opt/anaconda/lib/python2.7/lib-tk',\n",
       " '/opt/anaconda/lib/python2.7/lib-old',\n",
       " '/opt/anaconda/lib/python2.7/lib-dynload',\n",
       " '/opt/anaconda/lib/python2.7/site-packages',\n",
       " '/opt/anaconda/lib/python2.7/site-packages/Sphinx-1.4.1-py2.7.egg',\n",
       " '/opt/anaconda/lib/python2.7/site-packages/setuptools-23.0.0-py2.7.egg',\n",
       " '/opt/anaconda/lib/python2.7/site-packages/IPython/extensions',\n",
       " '/root/.ipython',\n",
       " '/vagrant/notebooks/cloudera',\n",
       " '/vagrant/notebooks/cloudera']"
      ]
     },
     "execution_count": 17,
     "metadata": {},
     "output_type": "execute_result"
    }
   ],
   "source": [
    "sys.path"
   ]
  },
  {
   "cell_type": "code",
   "execution_count": null,
   "metadata": {
    "collapsed": true
   },
   "outputs": [],
   "source": []
  },
  {
   "cell_type": "markdown",
   "metadata": {},
   "source": [
    "# Connect to Cloudera Manager"
   ]
  },
  {
   "cell_type": "code",
   "execution_count": 18,
   "metadata": {
    "collapsed": true
   },
   "outputs": [],
   "source": [
    "from cm_api.endpoints.services import ApiService\n",
    "from cm_api.endpoints.services import ApiServiceSetupInfo\n",
    "from cm_api.api_client import ApiResource"
   ]
  },
  {
   "cell_type": "code",
   "execution_count": 19,
   "metadata": {
    "collapsed": false
   },
   "outputs": [
    {
     "data": {
      "text/plain": [
       "<cm_api.endpoints.cms.ClouderaManager at 0x7fb760305850>"
      ]
     },
     "execution_count": 19,
     "metadata": {},
     "output_type": "execute_result"
    }
   ],
   "source": [
    "varFullHost = \"pocd-cm581-dev-manager.poc-d.internal\"\n",
    "\n",
    "varAdminUser = \"admin\"\n",
    "varAdminPassword = \"admin\"\n",
    "\n",
    "varApiResource = ApiResource(varFullHost, version=10, username=varAdminUser, password=varAdminPassword)\n",
    "varManager = varApiResource.get_cloudera_manager()\n",
    "varManager"
   ]
  },
  {
   "cell_type": "code",
   "execution_count": null,
   "metadata": {
    "collapsed": true
   },
   "outputs": [],
   "source": []
  },
  {
   "cell_type": "code",
   "execution_count": null,
   "metadata": {
    "collapsed": true
   },
   "outputs": [],
   "source": [
    "# Deploy Cloudera Manager Services - Configure Service"
   ]
  },
  {
   "cell_type": "code",
   "execution_count": 20,
   "metadata": {
    "collapsed": false
   },
   "outputs": [],
   "source": [
    "varEnableConfigAlerts = True\n",
    "varServiceGroupName = \"cloudera-scm\"\n",
    "varServiceUserName = \"cloudera-scm\"\n"
   ]
  },
  {
   "cell_type": "code",
   "execution_count": 21,
   "metadata": {
    "collapsed": false
   },
   "outputs": [
    {
     "data": {
      "text/plain": [
       "{'enable_config_alerts': True,\n",
       " 'process_groupname': 'cloudera-scm',\n",
       " 'process_username': 'cloudera-scm'}"
      ]
     },
     "execution_count": 21,
     "metadata": {},
     "output_type": "execute_result"
    }
   ],
   "source": [
    "varMgmtServiceConfig = {\n",
    "    'enable_config_alerts': varEnableConfigAlerts,\n",
    "    'process_groupname': varServiceGroupName,\n",
    "    'process_username': varServiceUserName,\n",
    "}\n",
    "\n",
    "varMgmtServiceConfig"
   ]
  },
  {
   "cell_type": "code",
   "execution_count": 22,
   "metadata": {
    "collapsed": false
   },
   "outputs": [
    {
     "data": {
      "text/plain": [
       "<cm_api.endpoints.services.ApiService at 0x7fb7603f5fd0>"
      ]
     },
     "execution_count": 22,
     "metadata": {},
     "output_type": "execute_result"
    }
   ],
   "source": [
    "varMgmt = varManager.create_mgmt_service(ApiServiceSetupInfo())\n",
    "varMgmt"
   ]
  },
  {
   "cell_type": "code",
   "execution_count": 23,
   "metadata": {
    "collapsed": false
   },
   "outputs": [
    {
     "data": {
      "text/plain": [
       "({u'enable_config_alerts': u'true',\n",
       "  u'process_groupname': u'cloudera-scm',\n",
       "  u'process_username': u'cloudera-scm'},\n",
       " {})"
      ]
     },
     "execution_count": 23,
     "metadata": {},
     "output_type": "execute_result"
    }
   ],
   "source": [
    "varMgmt.update_config(varMgmtServiceConfig)"
   ]
  },
  {
   "cell_type": "code",
   "execution_count": 24,
   "metadata": {
    "collapsed": false
   },
   "outputs": [
    {
     "data": {
      "text/plain": [
       "<cm_api.endpoints.services.ApiService at 0x7fb760305210>"
      ]
     },
     "execution_count": 24,
     "metadata": {},
     "output_type": "execute_result"
    }
   ],
   "source": [
    "varManager.get_service()"
   ]
  },
  {
   "cell_type": "code",
   "execution_count": 25,
   "metadata": {
    "collapsed": false
   },
   "outputs": [
    {
     "data": {
      "text/plain": [
       "<cm_api.endpoints.roles.ApiRole at 0x7fb760305990>"
      ]
     },
     "execution_count": 25,
     "metadata": {},
     "output_type": "execute_result"
    }
   ],
   "source": [
    "varMgmt.create_role(\"ACTIVITYMONITOR-1\", \"ACTIVITYMONITOR\", varFullHost)"
   ]
  },
  {
   "cell_type": "code",
   "execution_count": 26,
   "metadata": {
    "collapsed": false
   },
   "outputs": [
    {
     "data": {
      "text/plain": [
       "<cm_api.endpoints.roles.ApiRole at 0x7fb760314650>"
      ]
     },
     "execution_count": 26,
     "metadata": {},
     "output_type": "execute_result"
    }
   ],
   "source": [
    "varMgmt.create_role(\"ALERTPUBLISHER-1\", \"ALERTPUBLISHER\", varFullHost)\n",
    "varMgmt.create_role(\"EVENTSERVER-1\", \"EVENTSERVER\", varFullHost)\n",
    "varMgmt.create_role(\"HOSTMONITOR-1\", \"HOSTMONITOR\", varFullHost)\n",
    "varMgmt.create_role(\"SERVICEMONITOR-1\", \"SERVICEMONITOR\", varFullHost)\n",
    "varMgmt.create_role(\"REPORTSMANAGER-1\", \"REPORTSMANAGER\", varFullHost)\n",
    "\n",
    "# varMgmt.create_role(\"NAVIGATOR-1\", \"NAVIGATOR\", varFullHost)\n",
    "# varMgmt.create_role(\"NAVIGATORMETASERVER-1\", \"NAVIGATORMETASERVER\", varFullHost)\n"
   ]
  },
  {
   "cell_type": "code",
   "execution_count": null,
   "metadata": {
    "collapsed": false
   },
   "outputs": [],
   "source": []
  },
  {
   "cell_type": "code",
   "execution_count": null,
   "metadata": {
    "collapsed": true
   },
   "outputs": [],
   "source": []
  }
 ],
 "metadata": {
  "anaconda-cloud": {},
  "kernelspec": {
   "display_name": "Python 2",
   "language": "python",
   "name": "python2"
  },
  "language_info": {
   "codemirror_mode": {
    "name": "ipython",
    "version": 2
   },
   "file_extension": ".py",
   "mimetype": "text/x-python",
   "name": "python",
   "nbconvert_exporter": "python",
   "pygments_lexer": "ipython2",
   "version": "2.7.13"
  }
 },
 "nbformat": 4,
 "nbformat_minor": 0
}
