{
 "cells": [
  {
   "cell_type": "markdown",
   "metadata": {},
   "source": [
    "# Deploy HDFS"
   ]
  },
  {
   "cell_type": "code",
   "execution_count": 32,
   "metadata": {
    "collapsed": true
   },
   "outputs": [],
   "source": [
    "import pprint, time, sys"
   ]
  },
  {
   "cell_type": "code",
   "execution_count": 33,
   "metadata": {
    "collapsed": false
   },
   "outputs": [
    {
     "data": {
      "text/plain": [
       "'/vagrant/notebooks/cloudera'"
      ]
     },
     "execution_count": 33,
     "metadata": {},
     "output_type": "execute_result"
    }
   ],
   "source": [
    "varClouderaPath = \"/vagrant/notebooks/cloudera\"\n",
    "sys.path.append(varClouderaPath)\n",
    "\n",
    "varClouderaPath"
   ]
  },
  {
   "cell_type": "code",
   "execution_count": 34,
   "metadata": {
    "collapsed": false
   },
   "outputs": [
    {
     "data": {
      "text/plain": [
       "['',\n",
       " '/opt/anaconda/lib/python27.zip',\n",
       " '/opt/anaconda/lib/python2.7',\n",
       " '/opt/anaconda/lib/python2.7/plat-linux2',\n",
       " '/opt/anaconda/lib/python2.7/lib-tk',\n",
       " '/opt/anaconda/lib/python2.7/lib-old',\n",
       " '/opt/anaconda/lib/python2.7/lib-dynload',\n",
       " '/opt/anaconda/lib/python2.7/site-packages',\n",
       " '/opt/anaconda/lib/python2.7/site-packages/Sphinx-1.4.1-py2.7.egg',\n",
       " '/opt/anaconda/lib/python2.7/site-packages/setuptools-23.0.0-py2.7.egg',\n",
       " '/opt/anaconda/lib/python2.7/site-packages/IPython/extensions',\n",
       " '/root/.ipython',\n",
       " '/vagrant/notebooks/cloudera',\n",
       " '/vagrant/notebooks/cloudera',\n",
       " '/vagrant/notebooks/cloudera',\n",
       " '/vagrant/notebooks/cloudera']"
      ]
     },
     "execution_count": 34,
     "metadata": {},
     "output_type": "execute_result"
    }
   ],
   "source": [
    "sys.path"
   ]
  },
  {
   "cell_type": "code",
   "execution_count": null,
   "metadata": {
    "collapsed": true
   },
   "outputs": [],
   "source": []
  },
  {
   "cell_type": "code",
   "execution_count": 35,
   "metadata": {
    "collapsed": false
   },
   "outputs": [
    {
     "name": "stdout",
     "output_type": "stream",
     "text": [
      "             total       used       free     shared    buffers     cached\r\n",
      "Mem:       3922528    2226748    1695780        164      58672    1689036\r\n",
      "-/+ buffers/cache:     479040    3443488 \r\n",
      "Swap:      1015804          0    1015804 \r\n"
     ]
    }
   ],
   "source": [
    "!free"
   ]
  },
  {
   "cell_type": "markdown",
   "metadata": {},
   "source": [
    "# Connect to Cloudera Manager"
   ]
  },
  {
   "cell_type": "code",
   "execution_count": 36,
   "metadata": {
    "collapsed": true
   },
   "outputs": [],
   "source": [
    "from cm_api.endpoints.services import ApiService\n",
    "from cm_api.endpoints.services import ApiServiceSetupInfo\n",
    "from cm_api.api_client import ApiResource"
   ]
  },
  {
   "cell_type": "code",
   "execution_count": 37,
   "metadata": {
    "collapsed": false
   },
   "outputs": [
    {
     "data": {
      "text/plain": [
       "<cm_api.endpoints.cms.ClouderaManager at 0x7f1dd0171890>"
      ]
     },
     "execution_count": 37,
     "metadata": {},
     "output_type": "execute_result"
    }
   ],
   "source": [
    "varFullHost = \"pocd-cm581-dev-manager.poc-d.internal\"\n",
    "\n",
    "varAdminUser = \"admin\"\n",
    "varAdminPassword = \"admin\"\n",
    "\n",
    "varApiResource = ApiResource(varFullHost, version=10, username=varAdminUser, password=varAdminPassword)\n",
    "varManager = varApiResource.get_cloudera_manager()\n",
    "varManager"
   ]
  },
  {
   "cell_type": "code",
   "execution_count": null,
   "metadata": {
    "collapsed": true
   },
   "outputs": [],
   "source": []
  },
  {
   "cell_type": "code",
   "execution_count": null,
   "metadata": {
    "collapsed": true
   },
   "outputs": [],
   "source": [
    "# Get cluster"
   ]
  },
  {
   "cell_type": "code",
   "execution_count": 38,
   "metadata": {
    "collapsed": true
   },
   "outputs": [],
   "source": [
    "varClusterName = \"POC-D Cluster\"\n"
   ]
  },
  {
   "cell_type": "code",
   "execution_count": 39,
   "metadata": {
    "collapsed": false
   },
   "outputs": [],
   "source": [
    "varCluster = varApiResource.get_cluster(varClusterName)\n"
   ]
  },
  {
   "cell_type": "code",
   "execution_count": null,
   "metadata": {
    "collapsed": true
   },
   "outputs": [],
   "source": []
  },
  {
   "cell_type": "code",
   "execution_count": 40,
   "metadata": {
    "collapsed": true
   },
   "outputs": [],
   "source": [
    "varZK_Name = \"ZooKeeper\""
   ]
  },
  {
   "cell_type": "code",
   "execution_count": 41,
   "metadata": {
    "collapsed": true
   },
   "outputs": [],
   "source": [
    "!mkdir -p /opt/cloudera/lib/hadoop-hdfs\n",
    "!mkdir -p /tmp/.cloudera_health_monitoring_canary_files\n",
    "!mkdir -p /opt/cloudera/log/hadoop-hdfs/audit\n",
    "\n",
    "!chmod -R 777 /opt/cloudera/lib/hadoop-hdfs\n",
    "!chmod -R 777 /tmp/.cloudera_health_monitoring_canary_files\n",
    "!chmod -R 777 /opt/cloudera/log/hadoop-hdfs/audit"
   ]
  },
  {
   "cell_type": "code",
   "execution_count": 42,
   "metadata": {
    "collapsed": false
   },
   "outputs": [
    {
     "data": {
      "text/plain": [
       "{'audit_event_log_dir': '/opt/cloudera/log/hadoop-hdfs/audit',\n",
       " 'dfs_block_local_path_access_user': 'impala,hbase,mapred,spark',\n",
       " 'dfs_permissions': False,\n",
       " 'dfs_replication': 2,\n",
       " 'enable_config_alerts': True,\n",
       " 'firehose_hdfs_canary_directory': '/tmp/.cloudera_health_monitoring_canary_files',\n",
       " 'hdfs_hadoop_group_name': 'hadoop',\n",
       " 'hdfs_user_home_dir': '/opt/cloudera/lib/hadoop-hdfs',\n",
       " 'navigator_audit_log_max_file_size': 100,\n",
       " 'navigator_client_max_num_audit_log': 10,\n",
       " 'process_groupname': 'hdfs',\n",
       " 'process_username': 'hdfs',\n",
       " 'zookeeper_service': 'ZooKeeper'}"
      ]
     },
     "execution_count": 42,
     "metadata": {},
     "output_type": "execute_result"
    }
   ],
   "source": [
    "varHDFSServiceConfig = {\n",
    "    'dfs_replication': 2,\n",
    "    'dfs_permissions': False,\n",
    "    'dfs_block_local_path_access_user': \"impala,hbase,mapred,spark\",\n",
    "    'hdfs_hadoop_group_name': \"hadoop\",\n",
    "    'process_groupname': \"hdfs\",\n",
    "    'process_username': \"hdfs\",\n",
    "    'hdfs_user_home_dir': \"/opt/cloudera/lib/hadoop-hdfs\",\n",
    "    'audit_event_log_dir': \"/opt/cloudera/log/hadoop-hdfs/audit\",\n",
    "    'navigator_client_max_num_audit_log': 10,\n",
    "    'navigator_audit_log_max_file_size': 100,\n",
    "    'firehose_hdfs_canary_directory': \"/tmp/.cloudera_health_monitoring_canary_files\",\n",
    "    'zookeeper_service': varZK_Name,\n",
    "    'enable_config_alerts': True,\n",
    "}\n",
    "\n",
    "varHDFSServiceConfig"
   ]
  },
  {
   "cell_type": "code",
   "execution_count": 20,
   "metadata": {
    "collapsed": false
   },
   "outputs": [],
   "source": []
  },
  {
   "cell_type": "code",
   "execution_count": 43,
   "metadata": {
    "collapsed": true
   },
   "outputs": [],
   "source": [
    "!mkdir -p /opt/cloudera/log/hadoop-hdfs\n",
    "!chmod -R 777 /opt/cloudera/log/hadoop-hdfs\n"
   ]
  },
  {
   "cell_type": "code",
   "execution_count": 44,
   "metadata": {
    "collapsed": false
   },
   "outputs": [
    {
     "data": {
      "text/plain": [
       "{'dfs_name_dir_list': '/dfs/nn',\n",
       " 'enable_config_alerts': True,\n",
       " 'log_threshold': 'INFO',\n",
       " 'max_log_backup_index': 10,\n",
       " 'max_log_size': 100,\n",
       " 'namenode_java_heapsize': 268435456,\n",
       " 'namenode_log_dir': '/opt/cloudera/log/hadoop-hdfs',\n",
       " 'oom_heap_dump_dir': '/tmp',\n",
       " 'oom_heap_dump_enabled': False}"
      ]
     },
     "execution_count": 44,
     "metadata": {},
     "output_type": "execute_result"
    }
   ],
   "source": [
    "varHDFS_NameNode_Config = {\n",
    "    'dfs_name_dir_list': \"/dfs/nn\",\n",
    "    'oom_heap_dump_dir': \"/tmp\",\n",
    "    'oom_heap_dump_enabled': False,\n",
    "    'namenode_log_dir': \"/opt/cloudera/log/hadoop-hdfs\",\n",
    "    'max_log_backup_index': 10,\n",
    "    'max_log_size': 100,\n",
    "    'log_threshold': \"INFO\",\n",
    "    'namenode_java_heapsize': 268435456,\n",
    "    'enable_config_alerts': True,\n",
    "}\n",
    "\n",
    "varHDFS_NameNode_Config"
   ]
  },
  {
   "cell_type": "code",
   "execution_count": null,
   "metadata": {
    "collapsed": true
   },
   "outputs": [],
   "source": []
  },
  {
   "cell_type": "code",
   "execution_count": 45,
   "metadata": {
    "collapsed": true
   },
   "outputs": [],
   "source": [
    "!mkdir -p /opt/cloudera/log/hadoop-hdfs\n",
    "!chmod -R 777 /opt/cloudera/log/hadoop-hdfs"
   ]
  },
  {
   "cell_type": "code",
   "execution_count": 46,
   "metadata": {
    "collapsed": false
   },
   "outputs": [
    {
     "data": {
      "text/plain": [
       "{'enable_config_alerts': True,\n",
       " 'fs_checkpoint_dir_list': '/dfs/snn',\n",
       " 'log_threshold': 'INFO',\n",
       " 'max_log_backup_index': 10,\n",
       " 'max_log_size': 100,\n",
       " 'oom_heap_dump_dir': '/tmp',\n",
       " 'oom_heap_dump_enabled': False,\n",
       " 'secondary_namenode_java_heapsize': 268435456,\n",
       " 'secondarynamenode_log_dir': '/opt/cloudera/log/hadoop-hdfs'}"
      ]
     },
     "execution_count": 46,
     "metadata": {},
     "output_type": "execute_result"
    }
   ],
   "source": [
    "varHDFS_SecondaryNameNode_Config = {\n",
    "    'fs_checkpoint_dir_list': \"/dfs/snn\",\n",
    "    'oom_heap_dump_dir': \"/tmp\",\n",
    "    'oom_heap_dump_enabled': False,\n",
    "    'secondarynamenode_log_dir': \"/opt/cloudera/log/hadoop-hdfs\",\n",
    "    'max_log_backup_index': 10,\n",
    "    'max_log_size': 100,\n",
    "    'log_threshold': \"INFO\",\n",
    "    'secondary_namenode_java_heapsize': 268435456,\n",
    "    'enable_config_alerts': True,\n",
    "}\n",
    "\n",
    "varHDFS_SecondaryNameNode_Config"
   ]
  },
  {
   "cell_type": "code",
   "execution_count": null,
   "metadata": {
    "collapsed": true
   },
   "outputs": [],
   "source": []
  },
  {
   "cell_type": "code",
   "execution_count": 47,
   "metadata": {
    "collapsed": true
   },
   "outputs": [],
   "source": [
    "!mkdir -p /opt/cloudera/log/hadoop-hdfs\n",
    "!chmod -R 777 /opt/cloudera/log/hadoop-hdfs\n"
   ]
  },
  {
   "cell_type": "code",
   "execution_count": 48,
   "metadata": {
    "collapsed": false
   },
   "outputs": [
    {
     "data": {
      "text/plain": [
       "{'datanode_java_heapsize': 268435456,\n",
       " 'datanode_log_dir': '/opt/cloudera/log/hadoop-hdfs',\n",
       " 'dfs_data_dir_list': '/dfs/dn',\n",
       " 'dfs_datanode_data_dir_perm': 755,\n",
       " 'dfs_datanode_du_reserved': 10737418240,\n",
       " 'dfs_datanode_failed_volumes_tolerated': 0,\n",
       " 'enable_config_alerts': True,\n",
       " 'log_threshold': 'INFO',\n",
       " 'max_log_backup_index': 10,\n",
       " 'max_log_size': 100,\n",
       " 'oom_heap_dump_dir': '/tmp',\n",
       " 'oom_heap_dump_enabled': False}"
      ]
     },
     "execution_count": 48,
     "metadata": {},
     "output_type": "execute_result"
    }
   ],
   "source": [
    "varHDFS_DataNode_Config = {\n",
    "    'dfs_data_dir_list': \"/dfs/dn\",\n",
    "    'dfs_datanode_du_reserved': 10737418240,\n",
    "    'dfs_datanode_failed_volumes_tolerated': 0,\n",
    "    'dfs_datanode_data_dir_perm': 755,\n",
    "    'oom_heap_dump_dir': \"/tmp\",\n",
    "    'oom_heap_dump_enabled': False,\n",
    "    'datanode_log_dir': \"/opt/cloudera/log/hadoop-hdfs\",\n",
    "    'max_log_backup_index': 10,\n",
    "    'max_log_size': 100,\n",
    "    'log_threshold': \"INFO\",\n",
    "    'datanode_java_heapsize': 268435456,\n",
    "    'enable_config_alerts': True,\n",
    "}\n",
    "\n",
    "varHDFS_DataNode_Config"
   ]
  },
  {
   "cell_type": "code",
   "execution_count": null,
   "metadata": {
    "collapsed": true
   },
   "outputs": [],
   "source": []
  },
  {
   "cell_type": "code",
   "execution_count": 49,
   "metadata": {
    "collapsed": true
   },
   "outputs": [],
   "source": [
    "!mkdir -p /etc/hadoop\n",
    "!chmod -R 777 /etc/hadoop"
   ]
  },
  {
   "cell_type": "code",
   "execution_count": 50,
   "metadata": {
    "collapsed": false
   },
   "outputs": [
    {
     "data": {
      "text/plain": [
       "{'client_config_root_dir': '/etc/hadoop',\n",
       " 'dfs_client_use_trash': 'true',\n",
       " 'enable_config_alerts': True,\n",
       " 'hdfs_client_java_heapsize': 268435456}"
      ]
     },
     "execution_count": 50,
     "metadata": {},
     "output_type": "execute_result"
    }
   ],
   "source": [
    "varHDFS_Gateway_Config = {\n",
    "    'dfs_client_use_trash' : 'true',\n",
    "    'client_config_root_dir' : \"/etc/hadoop\",\n",
    "    'hdfs_client_java_heapsize' : 268435456,\n",
    "    'enable_config_alerts': True,\n",
    "}\n",
    "\n",
    "\n",
    "varHDFS_Gateway_Config"
   ]
  },
  {
   "cell_type": "code",
   "execution_count": null,
   "metadata": {
    "collapsed": true
   },
   "outputs": [],
   "source": []
  },
  {
   "cell_type": "code",
   "execution_count": 51,
   "metadata": {
    "collapsed": false
   },
   "outputs": [
    {
     "data": {
      "text/plain": [
       "{'balancer_java_heapsize': 268435456, 'enable_config_alerts': True}"
      ]
     },
     "execution_count": 51,
     "metadata": {},
     "output_type": "execute_result"
    }
   ],
   "source": [
    "varHDFS_Balancer_Config = {\n",
    "    'balancer_java_heapsize': 268435456,\n",
    "    'enable_config_alerts': True,\n",
    "}\n",
    "\n",
    "varHDFS_Balancer_Config"
   ]
  },
  {
   "cell_type": "code",
   "execution_count": null,
   "metadata": {
    "collapsed": true
   },
   "outputs": [],
   "source": []
  },
  {
   "cell_type": "code",
   "execution_count": null,
   "metadata": {
    "collapsed": true
   },
   "outputs": [],
   "source": []
  },
  {
   "cell_type": "code",
   "execution_count": 52,
   "metadata": {
    "collapsed": false
   },
   "outputs": [
    {
     "data": {
      "text/plain": [
       "['pocd-cm581-dev-node1.poc-d.internal',\n",
       " 'pocd-cm581-dev-node2.poc-d.internal',\n",
       " 'pocd-cm581-dev-node3.poc-d.internal']"
      ]
     },
     "execution_count": 52,
     "metadata": {},
     "output_type": "execute_result"
    }
   ],
   "source": [
    "varManagementHost = \"pocd-cm581-dev-man1.poc-d.internal\"\n",
    "\n",
    "varDataNodeHosts = [\n",
    "    \"pocd-cm581-dev-node1.poc-d.internal\",\n",
    "    \"pocd-cm581-dev-node2.poc-d.internal\",\n",
    "    \"pocd-cm581-dev-node3.poc-d.internal\",\n",
    "]\n",
    "\n",
    "varDataNodeHosts"
   ]
  },
  {
   "cell_type": "code",
   "execution_count": null,
   "metadata": {
    "collapsed": true
   },
   "outputs": [],
   "source": []
  },
  {
   "cell_type": "code",
   "execution_count": 58,
   "metadata": {
    "collapsed": true
   },
   "outputs": [],
   "source": [
    "\n",
    "def deploy_hdfs(cluster, hdfs_service_name, hdfs_config, hdfs_nn_service_name, \n",
    "                hdfs_nn_host, hdfs_nn_config, \n",
    "                hdfs_snn_host, hdfs_snn_config, \n",
    "                hdfs_dn_hosts, hdfs_dn_config, \n",
    "                hdfs_bal_host, hdfs_bal_config, \n",
    "                hdfs_gw_hosts, hdfs_gw_config):\n",
    "    \n",
    "    hdfs_service = cluster.create_service(hdfs_service_name, \"HDFS\")\n",
    "    hdfs_service.update_config(hdfs_config)\n",
    "    \n",
    "    nn_service_pattern = \"{0}-\" + hdfs_nn_service_name\n",
    "    hdfs_service.create_role(nn_service_pattern.format(hdfs_service_name), \"NAMENODE\", hdfs_nn_host)\n",
    "    hdfs_service.create_role(\"{0}-snn\".format(hdfs_service_name), \"SECONDARYNAMENODE\", hdfs_snn_host)\n",
    "\n",
    "    hdfs_service.create_role(\"{0}-bal\".format(hdfs_service_name), \"BALANCER\", hdfs_bal_host)\n",
    "    \n",
    "    datanode = 0\n",
    "    for host in hdfs_dn_hosts:\n",
    "        datanode += 1\n",
    "        hdfs_service.create_role(\"{0}-dn-\".format(hdfs_service_name) + str(datanode), \"DATANODE\", host)\n",
    "    \n",
    "    gateway = 0\n",
    "    for host in hdfs_gw_hosts:\n",
    "        gateway += 1\n",
    "        hdfs_service.create_role(\"{0}-gw-\".format(hdfs_service_name) + str(gateway), \"GATEWAY\", host)\n",
    "\n",
    "    hdfs_service.get_role_config_group(\"HDFS-NAMENODE-BASE\").update_config(hdfs_nn_config)\n",
    "    hdfs_service.get_role_config_group(\"HDFS-DATANODE-BASE\").update_config(hdfs_dn_config)\n",
    "    hdfs_service.get_role_config_group(\"HDFS-SECONDARYNAMENODE-BASE\").update_config(hdfs_snn_config)\n",
    "    hdfs_service.get_role_config_group(\"HDFS-GATEWAY-BASE\").update_config(hdfs_gw_config)\n",
    "    hdfs_service.get_role_config_group(\"HDFS-BALANCER-BASE\").update_config(hdfs_bal_config)\n",
    "    \n",
    "    return hdfs_service\n"
   ]
  },
  {
   "cell_type": "code",
   "execution_count": 60,
   "metadata": {
    "collapsed": false
   },
   "outputs": [
    {
     "data": {
      "text/plain": [
       "<cm_api.endpoints.services.ApiService at 0x7f1dd0134710>"
      ]
     },
     "execution_count": 60,
     "metadata": {},
     "output_type": "execute_result"
    }
   ],
   "source": [
    "hdfs_service = deploy_hdfs(varCluster, \"HDFS\", varHDFSServiceConfig, \"nn\", \n",
    "    varManagementHost, varHDFS_NameNode_Config, \n",
    "    varManagementHost, varHDFS_SecondaryNameNode_Config, \n",
    "    varDataNodeHosts, varHDFS_DataNode_Config, \n",
    "    varManagementHost, varHDFS_Balancer_Config, \n",
    "    varDataNodeHosts, varHDFS_Gateway_Config)\n",
    "\n",
    "hdfs_service"
   ]
  },
  {
   "cell_type": "code",
   "execution_count": null,
   "metadata": {
    "collapsed": true
   },
   "outputs": [],
   "source": []
  },
  {
   "cell_type": "code",
   "execution_count": 61,
   "metadata": {
    "collapsed": true
   },
   "outputs": [],
   "source": [
    "# Initializes HDFS - format the file system\n",
    "def init_hdfs(hdfs_service, hdfs_name, timeout):\n",
    "   cmd = hdfs_service.format_hdfs(\"{0}-nn\".format(hdfs_name))[0]\n",
    "   if not cmd.wait(timeout).success:\n",
    "       print \"WARNING: Failed to format HDFS, attempting to continue with the setup\" "
   ]
  },
  {
   "cell_type": "code",
   "execution_count": 63,
   "metadata": {
    "collapsed": true
   },
   "outputs": [],
   "source": [
    "# Format HDFS"
   ]
  },
  {
   "cell_type": "code",
   "execution_count": 62,
   "metadata": {
    "collapsed": false
   },
   "outputs": [
    {
     "name": "stdout",
     "output_type": "stream",
     "text": [
      "WARNING: Failed to format HDFS, attempting to continue with the setup\n"
     ]
    }
   ],
   "source": [
    "init_hdfs(hdfs_service, \"HDFS\", 180)"
   ]
  },
  {
   "cell_type": "code",
   "execution_count": null,
   "metadata": {
    "collapsed": true
   },
   "outputs": [],
   "source": []
  },
  {
   "cell_type": "code",
   "execution_count": null,
   "metadata": {
    "collapsed": true
   },
   "outputs": [],
   "source": [
    "hdfs_service.create_hdfs_tmp()"
   ]
  },
  {
   "cell_type": "code",
   "execution_count": null,
   "metadata": {
    "collapsed": true
   },
   "outputs": [],
   "source": [
    "varTimeOutInSeconds = 180\n",
    "cmd = varCluster.deploy_client_config()\n",
    "if not cmd.wait(varTimeOutInSeconds).success:\n",
    "    print \"Failed to deploy client configs for {0}\".format(varCluster.name)\n"
   ]
  },
  {
   "cell_type": "code",
   "execution_count": null,
   "metadata": {
    "collapsed": true
   },
   "outputs": [],
   "source": []
  },
  {
   "cell_type": "code",
   "execution_count": 64,
   "metadata": {
    "collapsed": false
   },
   "outputs": [
    {
     "data": {
      "text/plain": [
       "<cm_api.endpoints.types.ApiCommand at 0x7f1dd0171550>"
      ]
     },
     "execution_count": 64,
     "metadata": {},
     "output_type": "execute_result"
    }
   ],
   "source": [
    "varCluster.start().wait()"
   ]
  },
  {
   "cell_type": "code",
   "execution_count": null,
   "metadata": {
    "collapsed": true
   },
   "outputs": [],
   "source": []
  }
 ],
 "metadata": {
  "anaconda-cloud": {},
  "kernelspec": {
   "display_name": "Python [default]",
   "language": "python",
   "name": "python2"
  },
  "language_info": {
   "codemirror_mode": {
    "name": "ipython",
    "version": 2
   },
   "file_extension": ".py",
   "mimetype": "text/x-python",
   "name": "python",
   "nbconvert_exporter": "python",
   "pygments_lexer": "ipython2",
   "version": "2.7.12"
  }
 },
 "nbformat": 4,
 "nbformat_minor": 0
}
