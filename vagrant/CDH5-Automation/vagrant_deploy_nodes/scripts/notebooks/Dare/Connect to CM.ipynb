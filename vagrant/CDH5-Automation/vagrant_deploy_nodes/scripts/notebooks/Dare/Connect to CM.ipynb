{
 "cells": [
  {
   "cell_type": "code",
   "execution_count": 1,
   "metadata": {
    "collapsed": true
   },
   "outputs": [],
   "source": [
    "import pprint, time, sys"
   ]
  },
  {
   "cell_type": "code",
   "execution_count": 2,
   "metadata": {
    "collapsed": false
   },
   "outputs": [
    {
     "data": {
      "text/plain": [
       "'/vagrant/scripts/notebooks/cloudera'"
      ]
     },
     "execution_count": 2,
     "metadata": {},
     "output_type": "execute_result"
    }
   ],
   "source": [
    "varClouderaPath = \"/vagrant/scripts/notebooks/cloudera\"\n",
    "sys.path.append(varClouderaPath)\n",
    "\n",
    "varClouderaPath\n",
    "\n"
   ]
  },
  {
   "cell_type": "code",
   "execution_count": 3,
   "metadata": {
    "collapsed": true
   },
   "outputs": [],
   "source": [
    "from cm_api.endpoints.services import ApiService\n",
    "from cm_api.endpoints.services import ApiServiceSetupInfo\n",
    "from cm_api.api_client import ApiResource"
   ]
  },
  {
   "cell_type": "markdown",
   "metadata": {},
   "source": [
    "# Get Connection Handle to Cloudera Manager"
   ]
  },
  {
   "cell_type": "code",
   "execution_count": 20,
   "metadata": {
    "collapsed": true
   },
   "outputs": [],
   "source": [
    "varFullHost = \"cm-master-dev2-1.xpoint.internal\"\n",
    "varAdminUser = \"admin\"\n",
    "varAdminPassword = \"admin\"\n",
    "\n",
    "varApiResource = ApiResource(varFullHost, version=10, username=varAdminUser, password=varAdminPassword)\n",
    "varManager = varApiResource.get_cloudera_manager()"
   ]
  },
  {
   "cell_type": "code",
   "execution_count": 21,
   "metadata": {
    "collapsed": false
   },
   "outputs": [],
   "source": [
    "#Some customization settings\n",
    "\n",
    "varBannerText = \"Dares_Development_Cluster\"\n",
    "varBannerColour = \"GREEN\"\n",
    "varMaxUploads = 3\n",
    "varParcelRepo = \"http://cm-master-dev2-1/parcels/cloudera-cdh5.7.centos6/\"\n"
   ]
  },
  {
   "cell_type": "code",
   "execution_count": 22,
   "metadata": {
    "collapsed": false
   },
   "outputs": [
    {
     "data": {
      "text/plain": [
       "{'custom_banner_html': 'Dares_Development_Cluster',\n",
       " 'custom_header_color': 'GREEN',\n",
       " 'parcel_max_upload': 3,\n",
       " 'remote_parcel_repo_urls': 'http://cm-master-dev2-1/parcels/cloudera-cdh5.7.centos6/'}"
      ]
     },
     "execution_count": 22,
     "metadata": {},
     "output_type": "execute_result"
    }
   ],
   "source": [
    "varClouderaManagerConfig = {\n",
    "    'custom_banner_html': varBannerText,\n",
    "    'custom_header_color': varBannerColour,\n",
    "    'parcel_max_upload': varMaxUploads,\n",
    "    'remote_parcel_repo_urls': varParcelRepo,\n",
    "}\n",
    "\n",
    "varClouderaManagerConfig"
   ]
  },
  {
   "cell_type": "code",
   "execution_count": 24,
   "metadata": {
    "collapsed": false
   },
   "outputs": [
    {
     "data": {
      "text/plain": [
       "{u'CLUSTER_STATS_START': u'10/26/2012 23:10',\n",
       " u'CUSTOM_BANNER_HTML': u'Dares_Development_Cluster',\n",
       " u'CUSTOM_HEADER_COLOR': u'GREEN',\n",
       " u'PARCEL_MAX_UPLOAD': u'3',\n",
       " u'REMOTE_PARCEL_REPO_URLS': u'http://cm-master-dev2-1/parcels/cloudera-cdh5.7.centos6/'}"
      ]
     },
     "execution_count": 24,
     "metadata": {},
     "output_type": "execute_result"
    }
   ],
   "source": [
    "varManager.update_config(varClouderaManagerConfig)"
   ]
  },
  {
   "cell_type": "markdown",
   "metadata": {},
   "source": [
    "# Deploy Cloudera Manager Services"
   ]
  },
  {
   "cell_type": "code",
   "execution_count": 8,
   "metadata": {
    "collapsed": true
   },
   "outputs": [],
   "source": [
    "# Deploy Cloudera Manager Services - Configure Service"
   ]
  },
  {
   "cell_type": "code",
   "execution_count": 25,
   "metadata": {
    "collapsed": true
   },
   "outputs": [],
   "source": [
    "varEnableConfigAlerts = True\n",
    "varServiceGroupName = \"cloudera-scm\"\n",
    "varServiceUserName = \"cloudera-scm\"\n"
   ]
  },
  {
   "cell_type": "code",
   "execution_count": 26,
   "metadata": {
    "collapsed": false
   },
   "outputs": [
    {
     "data": {
      "text/plain": [
       "{'enable_config_alerts': True,\n",
       " 'process_groupname': 'cloudera-scm',\n",
       " 'process_username': 'cloudera-scm'}"
      ]
     },
     "execution_count": 26,
     "metadata": {},
     "output_type": "execute_result"
    }
   ],
   "source": [
    "varMgmtServiceConfig = {\n",
    "    'enable_config_alerts': varEnableConfigAlerts,\n",
    "    'process_groupname': varServiceGroupName,\n",
    "    'process_username': varServiceUserName,\n",
    "}\n",
    "\n",
    "varMgmtServiceConfig"
   ]
  },
  {
   "cell_type": "code",
   "execution_count": 13,
   "metadata": {
    "collapsed": false
   },
   "outputs": [
    {
     "data": {
      "text/plain": [
       "<cm_api.endpoints.services.ApiService at 0x7fb7492c45d0>"
      ]
     },
     "execution_count": 13,
     "metadata": {},
     "output_type": "execute_result"
    }
   ],
   "source": [
    "varMgmt = varManager.create_mgmt_service(ApiServiceSetupInfo())\n",
    "varMgmt"
   ]
  },
  {
   "cell_type": "code",
   "execution_count": 27,
   "metadata": {
    "collapsed": false
   },
   "outputs": [
    {
     "data": {
      "text/plain": [
       "({u'enable_config_alerts': u'true',\n",
       "  u'process_groupname': u'cloudera-scm',\n",
       "  u'process_username': u'cloudera-scm'},\n",
       " {})"
      ]
     },
     "execution_count": 27,
     "metadata": {},
     "output_type": "execute_result"
    }
   ],
   "source": [
    "varMgmt.update_config(varMgmtServiceConfig)"
   ]
  },
  {
   "cell_type": "code",
   "execution_count": 28,
   "metadata": {
    "collapsed": false
   },
   "outputs": [
    {
     "data": {
      "text/plain": [
       "<cm_api.endpoints.services.ApiService at 0x7fb749272390>"
      ]
     },
     "execution_count": 28,
     "metadata": {},
     "output_type": "execute_result"
    }
   ],
   "source": [
    "varManager.get_service()"
   ]
  },
  {
   "cell_type": "code",
   "execution_count": null,
   "metadata": {
    "collapsed": false
   },
   "outputs": [],
   "source": []
  },
  {
   "cell_type": "code",
   "execution_count": null,
   "metadata": {
    "collapsed": false
   },
   "outputs": [],
   "source": []
  },
  {
   "cell_type": "code",
   "execution_count": null,
   "metadata": {
    "collapsed": true
   },
   "outputs": [],
   "source": []
  },
  {
   "cell_type": "code",
   "execution_count": null,
   "metadata": {
    "collapsed": true
   },
   "outputs": [],
   "source": []
  },
  {
   "cell_type": "code",
   "execution_count": 29,
   "metadata": {
    "collapsed": false
   },
   "outputs": [
    {
     "ename": "ApiException",
     "evalue": "Host 'cm-master-dev2-1.xpoint.internal' not found. (error 404)",
     "output_type": "error",
     "traceback": [
      "\u001b[1;31m---------------------------------------------------------------------------\u001b[0m",
      "\u001b[1;31mApiException\u001b[0m                              Traceback (most recent call last)",
      "\u001b[1;32m<ipython-input-29-34528af779a8>\u001b[0m in \u001b[0;36m<module>\u001b[1;34m()\u001b[0m\n\u001b[1;32m----> 1\u001b[1;33m \u001b[0mvarMgmt\u001b[0m\u001b[1;33m.\u001b[0m\u001b[0mcreate_role\u001b[0m\u001b[1;33m(\u001b[0m\u001b[1;34m\"ACTIVITYMONITOR-1\"\u001b[0m\u001b[1;33m,\u001b[0m \u001b[1;34m\"ACTIVITYMONITOR\"\u001b[0m\u001b[1;33m,\u001b[0m \u001b[0mvarFullHost\u001b[0m\u001b[1;33m)\u001b[0m\u001b[1;33m\u001b[0m\u001b[0m\n\u001b[0m",
      "\u001b[1;32m/vagrant/scripts/notebooks/cloudera/cm_api/endpoints/services.pyc\u001b[0m in \u001b[0;36mcreate_role\u001b[1;34m(self, role_name, role_type, host_id)\u001b[0m\n\u001b[0;32m    554\u001b[0m     \"\"\"\n\u001b[0;32m    555\u001b[0m     return roles.create_role(self._get_resource_root(), self.name, role_type,\n\u001b[1;32m--> 556\u001b[1;33m         role_name, host_id, self._get_cluster_name())\n\u001b[0m\u001b[0;32m    557\u001b[0m \u001b[1;33m\u001b[0m\u001b[0m\n\u001b[0;32m    558\u001b[0m   \u001b[1;32mdef\u001b[0m \u001b[0mdelete_role\u001b[0m\u001b[1;33m(\u001b[0m\u001b[0mself\u001b[0m\u001b[1;33m,\u001b[0m \u001b[0mname\u001b[0m\u001b[1;33m)\u001b[0m\u001b[1;33m:\u001b[0m\u001b[1;33m\u001b[0m\u001b[0m\n",
      "\u001b[1;32m/vagrant/scripts/notebooks/cloudera/cm_api/endpoints/roles.pyc\u001b[0m in \u001b[0;36mcreate_role\u001b[1;34m(resource_root, service_name, role_type, role_name, host_id, cluster_name)\u001b[0m\n\u001b[0;32m     51\u001b[0m   return call(resource_root.post,\n\u001b[0;32m     52\u001b[0m       \u001b[0m_get_roles_path\u001b[0m\u001b[1;33m(\u001b[0m\u001b[0mcluster_name\u001b[0m\u001b[1;33m,\u001b[0m \u001b[0mservice_name\u001b[0m\u001b[1;33m)\u001b[0m\u001b[1;33m,\u001b[0m\u001b[1;33m\u001b[0m\u001b[0m\n\u001b[1;32m---> 53\u001b[1;33m       ApiRole, True, data=[apirole])[0]\n\u001b[0m\u001b[0;32m     54\u001b[0m \u001b[1;33m\u001b[0m\u001b[0m\n\u001b[0;32m     55\u001b[0m \u001b[1;32mdef\u001b[0m \u001b[0mget_role\u001b[0m\u001b[1;33m(\u001b[0m\u001b[0mresource_root\u001b[0m\u001b[1;33m,\u001b[0m \u001b[0mservice_name\u001b[0m\u001b[1;33m,\u001b[0m \u001b[0mname\u001b[0m\u001b[1;33m,\u001b[0m \u001b[0mcluster_name\u001b[0m\u001b[1;33m=\u001b[0m\u001b[1;34m\"default\"\u001b[0m\u001b[1;33m)\u001b[0m\u001b[1;33m:\u001b[0m\u001b[1;33m\u001b[0m\u001b[0m\n",
      "\u001b[1;32m/vagrant/scripts/notebooks/cloudera/cm_api/endpoints/types.pyc\u001b[0m in \u001b[0;36mcall\u001b[1;34m(method, path, ret_type, ret_is_list, data, params, api_version)\u001b[0m\n\u001b[0;32m    135\u001b[0m   \u001b[1;32mif\u001b[0m \u001b[0mdata\u001b[0m \u001b[1;32mis\u001b[0m \u001b[1;32mnot\u001b[0m \u001b[0mNone\u001b[0m\u001b[1;33m:\u001b[0m\u001b[1;33m\u001b[0m\u001b[0m\n\u001b[0;32m    136\u001b[0m     \u001b[0mdata\u001b[0m \u001b[1;33m=\u001b[0m \u001b[0mjson\u001b[0m\u001b[1;33m.\u001b[0m\u001b[0mdumps\u001b[0m\u001b[1;33m(\u001b[0m\u001b[0mAttr\u001b[0m\u001b[1;33m(\u001b[0m\u001b[0mis_api_list\u001b[0m\u001b[1;33m=\u001b[0m\u001b[0mTrue\u001b[0m\u001b[1;33m)\u001b[0m\u001b[1;33m.\u001b[0m\u001b[0mto_json\u001b[0m\u001b[1;33m(\u001b[0m\u001b[0mdata\u001b[0m\u001b[1;33m,\u001b[0m \u001b[0mFalse\u001b[0m\u001b[1;33m)\u001b[0m\u001b[1;33m)\u001b[0m\u001b[1;33m\u001b[0m\u001b[0m\n\u001b[1;32m--> 137\u001b[1;33m     \u001b[0mret\u001b[0m \u001b[1;33m=\u001b[0m \u001b[0mmethod\u001b[0m\u001b[1;33m(\u001b[0m\u001b[0mpath\u001b[0m\u001b[1;33m,\u001b[0m \u001b[0mdata\u001b[0m\u001b[1;33m=\u001b[0m\u001b[0mdata\u001b[0m\u001b[1;33m,\u001b[0m \u001b[0mparams\u001b[0m\u001b[1;33m=\u001b[0m\u001b[0mparams\u001b[0m\u001b[1;33m)\u001b[0m\u001b[1;33m\u001b[0m\u001b[0m\n\u001b[0m\u001b[0;32m    138\u001b[0m   \u001b[1;32melse\u001b[0m\u001b[1;33m:\u001b[0m\u001b[1;33m\u001b[0m\u001b[0m\n\u001b[0;32m    139\u001b[0m     \u001b[0mret\u001b[0m \u001b[1;33m=\u001b[0m \u001b[0mmethod\u001b[0m\u001b[1;33m(\u001b[0m\u001b[0mpath\u001b[0m\u001b[1;33m,\u001b[0m \u001b[0mparams\u001b[0m\u001b[1;33m=\u001b[0m\u001b[0mparams\u001b[0m\u001b[1;33m)\u001b[0m\u001b[1;33m\u001b[0m\u001b[0m\n",
      "\u001b[1;32m/vagrant/scripts/notebooks/cloudera/cm_api/resource.pyc\u001b[0m in \u001b[0;36mpost\u001b[1;34m(self, relpath, params, data, contenttype)\u001b[0m\n\u001b[0;32m    146\u001b[0m     \"\"\"\n\u001b[0;32m    147\u001b[0m     return self.invoke(\"POST\", relpath, params, data,\n\u001b[1;32m--> 148\u001b[1;33m                        self._make_headers(contenttype))\n\u001b[0m\u001b[0;32m    149\u001b[0m \u001b[1;33m\u001b[0m\u001b[0m\n\u001b[0;32m    150\u001b[0m \u001b[1;33m\u001b[0m\u001b[0m\n",
      "\u001b[1;32m/vagrant/scripts/notebooks/cloudera/cm_api/resource.pyc\u001b[0m in \u001b[0;36minvoke\u001b[1;34m(self, method, relpath, params, data, headers)\u001b[0m\n\u001b[0;32m     71\u001b[0m                                 \u001b[0mparams\u001b[0m\u001b[1;33m=\u001b[0m\u001b[0mparams\u001b[0m\u001b[1;33m,\u001b[0m\u001b[1;33m\u001b[0m\u001b[0m\n\u001b[0;32m     72\u001b[0m                                 \u001b[0mdata\u001b[0m\u001b[1;33m=\u001b[0m\u001b[0mdata\u001b[0m\u001b[1;33m,\u001b[0m\u001b[1;33m\u001b[0m\u001b[0m\n\u001b[1;32m---> 73\u001b[1;33m                                 headers=headers)\n\u001b[0m\u001b[0;32m     74\u001b[0m     \u001b[1;32mtry\u001b[0m\u001b[1;33m:\u001b[0m\u001b[1;33m\u001b[0m\u001b[0m\n\u001b[0;32m     75\u001b[0m       \u001b[0mbody\u001b[0m \u001b[1;33m=\u001b[0m \u001b[0mresp\u001b[0m\u001b[1;33m.\u001b[0m\u001b[0mread\u001b[0m\u001b[1;33m(\u001b[0m\u001b[1;33m)\u001b[0m\u001b[1;33m\u001b[0m\u001b[0m\n",
      "\u001b[1;32m/vagrant/scripts/notebooks/cloudera/cm_api/http_client.pyc\u001b[0m in \u001b[0;36mexecute\u001b[1;34m(self, http_method, path, params, data, headers)\u001b[0m\n\u001b[0;32m    172\u001b[0m       \u001b[1;32mreturn\u001b[0m \u001b[0mself\u001b[0m\u001b[1;33m.\u001b[0m\u001b[0m_opener\u001b[0m\u001b[1;33m.\u001b[0m\u001b[0mopen\u001b[0m\u001b[1;33m(\u001b[0m\u001b[0mrequest\u001b[0m\u001b[1;33m)\u001b[0m\u001b[1;33m\u001b[0m\u001b[0m\n\u001b[0;32m    173\u001b[0m     \u001b[1;32mexcept\u001b[0m \u001b[0murllib2\u001b[0m\u001b[1;33m.\u001b[0m\u001b[0mHTTPError\u001b[0m\u001b[1;33m,\u001b[0m \u001b[0mex\u001b[0m\u001b[1;33m:\u001b[0m\u001b[1;33m\u001b[0m\u001b[0m\n\u001b[1;32m--> 174\u001b[1;33m       \u001b[1;32mraise\u001b[0m \u001b[0mself\u001b[0m\u001b[1;33m.\u001b[0m\u001b[0m_exc_class\u001b[0m\u001b[1;33m(\u001b[0m\u001b[0mex\u001b[0m\u001b[1;33m)\u001b[0m\u001b[1;33m\u001b[0m\u001b[0m\n\u001b[0m\u001b[0;32m    175\u001b[0m \u001b[1;33m\u001b[0m\u001b[0m\n\u001b[0;32m    176\u001b[0m   \u001b[1;32mdef\u001b[0m \u001b[0m_make_url\u001b[0m\u001b[1;33m(\u001b[0m\u001b[0mself\u001b[0m\u001b[1;33m,\u001b[0m \u001b[0mpath\u001b[0m\u001b[1;33m,\u001b[0m \u001b[0mparams\u001b[0m\u001b[1;33m)\u001b[0m\u001b[1;33m:\u001b[0m\u001b[1;33m\u001b[0m\u001b[0m\n",
      "\u001b[1;31mApiException\u001b[0m: Host 'cm-master-dev2-1.xpoint.internal' not found. (error 404)"
     ]
    }
   ],
   "source": [
    "varMgmt.create_role(\"ACTIVITYMONITOR-1\", \"ACTIVITYMONITOR\", varFullHost)"
   ]
  },
  {
   "cell_type": "code",
   "execution_count": null,
   "metadata": {
    "collapsed": false
   },
   "outputs": [],
   "source": [
    "varMgmt.create_role(\"ALERTPUBLISHER-1\", \"ALERTPUBLISHER\", varFullHost)\n",
    "varMgmt.create_role(\"EVENTSERVER-1\", \"EVENTSERVER\", varFullHost)\n",
    "varMgmt.create_role(\"HOSTMONITOR-1\", \"HOSTMONITOR\", varFullHost)\n",
    "varMgmt.create_role(\"SERVICEMONITOR-1\", \"SERVICEMONITOR\", varFullHost)\n",
    "varMgmt.create_role(\"REPORTSMANAGER-1\", \"REPORTSMANAGER\", varFullHost)\n",
    "varMgmt.create_role(\"ACTIVITYMONITOR-1\", \"ACTIVITYMONITOR\", varFullHost)\n",
    "# varMgmt.create_role(\"NAVIGATOR-1\", \"NAVIGATOR\", varFullHost)\n",
    "# varMgmt.create_role(\"NAVIGATORMETASERVER-1\", \"NAVIGATORMETASERVER\", varFullHost)\n"
   ]
  },
  {
   "cell_type": "code",
   "execution_count": null,
   "metadata": {
    "collapsed": true
   },
   "outputs": [],
   "source": []
  }
 ],
 "metadata": {
  "kernelspec": {
   "display_name": "Python 2",
   "language": "python",
   "name": "python2"
  },
  "language_info": {
   "codemirror_mode": {
    "name": "ipython",
    "version": 2
   },
   "file_extension": ".py",
   "mimetype": "text/x-python",
   "name": "python",
   "nbconvert_exporter": "python",
   "pygments_lexer": "ipython2",
   "version": "2.7.11"
  }
 },
 "nbformat": 4,
 "nbformat_minor": 0
}
