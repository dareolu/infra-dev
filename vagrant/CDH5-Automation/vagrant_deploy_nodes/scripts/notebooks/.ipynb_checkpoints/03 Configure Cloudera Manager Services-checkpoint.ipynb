{
 "cells": [
  {
   "cell_type": "markdown",
   "metadata": {},
   "source": [
    "# 03 Configure Cloudera Manager Services"
   ]
  },
  {
   "cell_type": "code",
   "execution_count": 1,
   "metadata": {
    "collapsed": true
   },
   "outputs": [],
   "source": [
    "import pprint, time, sys"
   ]
  },
  {
   "cell_type": "code",
   "execution_count": 2,
   "metadata": {
    "collapsed": false
   },
   "outputs": [
    {
     "data": {
      "text/plain": [
       "'/vagrant/notebooks/cloudera'"
      ]
     },
     "execution_count": 2,
     "metadata": {},
     "output_type": "execute_result"
    }
   ],
   "source": [
    "varClouderaPath = \"/vagrant/notebooks/cloudera\"\n",
    "sys.path.append(varClouderaPath)\n",
    "\n",
    "varClouderaPath"
   ]
  },
  {
   "cell_type": "code",
   "execution_count": 3,
   "metadata": {
    "collapsed": false
   },
   "outputs": [
    {
     "data": {
      "text/plain": [
       "['',\n",
       " '/opt/anaconda/lib/python27.zip',\n",
       " '/opt/anaconda/lib/python2.7',\n",
       " '/opt/anaconda/lib/python2.7/plat-linux2',\n",
       " '/opt/anaconda/lib/python2.7/lib-tk',\n",
       " '/opt/anaconda/lib/python2.7/lib-old',\n",
       " '/opt/anaconda/lib/python2.7/lib-dynload',\n",
       " '/opt/anaconda/lib/python2.7/site-packages',\n",
       " '/opt/anaconda/lib/python2.7/site-packages/Sphinx-1.4.1-py2.7.egg',\n",
       " '/opt/anaconda/lib/python2.7/site-packages/setuptools-23.0.0-py2.7.egg',\n",
       " '/opt/anaconda/lib/python2.7/site-packages/IPython/extensions',\n",
       " '/root/.ipython',\n",
       " '/vagrant/notebooks/cloudera']"
      ]
     },
     "execution_count": 3,
     "metadata": {},
     "output_type": "execute_result"
    }
   ],
   "source": [
    "sys.path"
   ]
  },
  {
   "cell_type": "code",
   "execution_count": null,
   "metadata": {
    "collapsed": true
   },
   "outputs": [],
   "source": []
  },
  {
   "cell_type": "markdown",
   "metadata": {},
   "source": [
    "# Connect to Cloudera Manager"
   ]
  },
  {
   "cell_type": "code",
   "execution_count": 4,
   "metadata": {
    "collapsed": true
   },
   "outputs": [],
   "source": [
    "from cm_api.endpoints.services import ApiService\n",
    "from cm_api.endpoints.services import ApiServiceSetupInfo\n",
    "from cm_api.api_client import ApiResource"
   ]
  },
  {
   "cell_type": "code",
   "execution_count": 5,
   "metadata": {
    "collapsed": false
   },
   "outputs": [
    {
     "data": {
      "text/plain": [
       "<cm_api.endpoints.cms.ClouderaManager at 0x7fd390302f90>"
      ]
     },
     "execution_count": 5,
     "metadata": {},
     "output_type": "execute_result"
    }
   ],
   "source": [
    "varFullHost = \"pocd-cm581-dev-manager.poc-d.internal\"\n",
    "\n",
    "varAdminUser = \"admin\"\n",
    "varAdminPassword = \"admin\"\n",
    "\n",
    "varApiResource = ApiResource(varFullHost, version=10, username=varAdminUser, password=varAdminPassword)\n",
    "varManager = varApiResource.get_cloudera_manager()\n",
    "varManager"
   ]
  },
  {
   "cell_type": "code",
   "execution_count": null,
   "metadata": {
    "collapsed": true
   },
   "outputs": [],
   "source": []
  },
  {
   "cell_type": "code",
   "execution_count": 6,
   "metadata": {
    "collapsed": true
   },
   "outputs": [],
   "source": [
    "# Deploy Cloudera Manager Services - Configure Service"
   ]
  },
  {
   "cell_type": "code",
   "execution_count": 7,
   "metadata": {
    "collapsed": false
   },
   "outputs": [
    {
     "data": {
      "text/plain": [
       "<cm_api.endpoints.services.ApiService at 0x7fd390302c90>"
      ]
     },
     "execution_count": 7,
     "metadata": {},
     "output_type": "execute_result"
    }
   ],
   "source": [
    "varMgmt = varManager.get_service()\n",
    "varMgmt"
   ]
  },
  {
   "cell_type": "code",
   "execution_count": null,
   "metadata": {
    "collapsed": true
   },
   "outputs": [],
   "source": []
  },
  {
   "cell_type": "code",
   "execution_count": 21,
   "metadata": {
    "collapsed": true
   },
   "outputs": [],
   "source": [
    "# 1) Deploy Cloudera Manager Services - Configure Service - ActivityMonitor"
   ]
  },
  {
   "cell_type": "code",
   "execution_count": 16,
   "metadata": {
    "collapsed": true
   },
   "outputs": [],
   "source": [
    "!mkdir -p /opt/cloudera/log/cloudera-scm-firehose\n",
    "!chmod -R 777 /opt/cloudera/log/cloudera-scm-firehose\n"
   ]
  },
  {
   "cell_type": "code",
   "execution_count": 17,
   "metadata": {
    "collapsed": true
   },
   "outputs": [],
   "source": [
    "varActivityMonitorPassword = \"DgJ8aA5kqg\""
   ]
  },
  {
   "cell_type": "code",
   "execution_count": 10,
   "metadata": {
    "collapsed": false
   },
   "outputs": [
    {
     "data": {
      "text/plain": [
       "{'enable_config_alerts': 'true',\n",
       " 'firehose_database_host': 'pocd-cm581-dev-manager.poc-d.internal:7432',\n",
       " 'firehose_database_name': 'amon',\n",
       " 'firehose_database_password': 'DgJ8aA5kqg',\n",
       " 'firehose_database_type': 'postgresql',\n",
       " 'firehose_database_user': 'amon',\n",
       " 'firehose_heapsize': 268435456,\n",
       " 'log_threshold': 'INFO',\n",
       " 'max_log_backup_index': 10,\n",
       " 'max_log_size': 100,\n",
       " 'mgmt_log_dir': '/opt/cloudera/log/cloudera-scm-firehose',\n",
       " 'oom_heap_dump_dir': '/tmp',\n",
       " 'oom_heap_dump_enabled': False}"
      ]
     },
     "execution_count": 10,
     "metadata": {},
     "output_type": "execute_result"
    }
   ],
   "source": [
    "# google search cm_props_cmserver\n",
    "\n",
    "varActivityMonitorConfig = {\n",
    "    'firehose_database_host': \"pocd-cm581-dev-manager.poc-d.internal\" + \":\" + \"7432\",\n",
    "    'firehose_database_user': \"amon\",\n",
    "    'firehose_database_password': varActivityMonitorPassword,\n",
    "    'firehose_database_type': \"postgresql\",\n",
    "    'firehose_database_name': \"amon\",\n",
    "    'firehose_heapsize': 268435456,\n",
    "    'mgmt_log_dir': \"/opt/cloudera/log/cloudera-scm-firehose\",\n",
    "    'oom_heap_dump_dir': \"/tmp\",\n",
    "    'oom_heap_dump_enabled': False,\n",
    "    'max_log_backup_index': 10,\n",
    "    'max_log_size': 100,\n",
    "    'log_threshold': \"INFO\",\n",
    "    'enable_config_alerts': \"true\",\n",
    "}\n",
    "\n",
    "varActivityMonitorConfig"
   ]
  },
  {
   "cell_type": "code",
   "execution_count": 29,
   "metadata": {
    "collapsed": false
   },
   "outputs": [
    {
     "data": {
      "text/plain": [
       "{u'enable_config_alerts': u'true',\n",
       " u'firehose_database_host': u'pocd-cm581-dev-manager.poc-d.internal:7432',\n",
       " u'firehose_database_name': u'amon',\n",
       " u'firehose_database_password': u'DgJ8aA5kqg',\n",
       " u'firehose_database_type': u'postgresql',\n",
       " u'firehose_database_user': u'amon',\n",
       " u'firehose_heapsize': u'268435456',\n",
       " u'log_threshold': u'INFO',\n",
       " u'max_log_backup_index': u'10',\n",
       " u'max_log_size': u'100',\n",
       " u'mgmt_log_dir': u'/opt/cloudera/log/cloudera-scm-firehose',\n",
       " u'oom_heap_dump_dir': u'/tmp',\n",
       " u'oom_heap_dump_enabled': u'false'}"
      ]
     },
     "execution_count": 29,
     "metadata": {},
     "output_type": "execute_result"
    }
   ],
   "source": [
    "varRole = varMgmt.get_role(\"ACTIVITYMONITOR-1\")\n",
    "varRole.update_config(varActivityMonitorConfig)"
   ]
  },
  {
   "cell_type": "code",
   "execution_count": null,
   "metadata": {
    "collapsed": true
   },
   "outputs": [],
   "source": []
  },
  {
   "cell_type": "code",
   "execution_count": 22,
   "metadata": {
    "collapsed": true
   },
   "outputs": [],
   "source": [
    "# 2) Deploy Cloudera Manager Services - Configure Service - AlertPublisher"
   ]
  },
  {
   "cell_type": "code",
   "execution_count": 18,
   "metadata": {
    "collapsed": true
   },
   "outputs": [],
   "source": [
    "!mkdir -p /opt/cloudera/log/cloudera-scm-alertpublisher\n",
    "!chmod -R 777 /opt/cloudera/log/cloudera-scm-alertpublisher\n"
   ]
  },
  {
   "cell_type": "code",
   "execution_count": 11,
   "metadata": {
    "collapsed": false
   },
   "outputs": [
    {
     "data": {
      "text/plain": [
       "{'alert_heapsize': 268435456,\n",
       " 'enable_config_alerts': True,\n",
       " 'log_threshold': 'INFO',\n",
       " 'max_log_backup_index': 10,\n",
       " 'max_log_size': 100,\n",
       " 'mgmt_log_dir': '/opt/cloudera/log/cloudera-scm-alertpublisher',\n",
       " 'oom_heap_dump_dir': '/tmp',\n",
       " 'oom_heap_dump_enabled': False}"
      ]
     },
     "execution_count": 11,
     "metadata": {},
     "output_type": "execute_result"
    }
   ],
   "source": [
    "varAlertPublisherConfig = {\n",
    "    'alert_heapsize':268435456,\n",
    "    'mgmt_log_dir': \"/opt/cloudera/log/cloudera-scm-alertpublisher\",\n",
    "    'oom_heap_dump_dir': \"/tmp\",\n",
    "    'oom_heap_dump_enabled': False,\n",
    "    'max_log_backup_index': 10,\n",
    "    'max_log_size': 100,\n",
    "    'log_threshold': \"INFO\",\n",
    "    'enable_config_alerts': True,\n",
    "}\n",
    "\n",
    "varAlertPublisherConfig"
   ]
  },
  {
   "cell_type": "code",
   "execution_count": 32,
   "metadata": {
    "collapsed": false
   },
   "outputs": [
    {
     "data": {
      "text/plain": [
       "{u'alert_heapsize': u'268435456',\n",
       " u'enable_config_alerts': u'true',\n",
       " u'log_threshold': u'INFO',\n",
       " u'max_log_backup_index': u'10',\n",
       " u'max_log_size': u'100',\n",
       " u'mgmt_log_dir': u'/opt/cloudera/log/cloudera-scm-alertpublisher',\n",
       " u'oom_heap_dump_dir': u'/tmp',\n",
       " u'oom_heap_dump_enabled': u'false'}"
      ]
     },
     "execution_count": 32,
     "metadata": {},
     "output_type": "execute_result"
    }
   ],
   "source": [
    "varRole = varMgmt.get_role(\"ALERTPUBLISHER-1\")\n",
    "varRole.update_config(varAlertPublisherConfig)"
   ]
  },
  {
   "cell_type": "code",
   "execution_count": null,
   "metadata": {
    "collapsed": true
   },
   "outputs": [],
   "source": []
  },
  {
   "cell_type": "code",
   "execution_count": 23,
   "metadata": {
    "collapsed": true
   },
   "outputs": [],
   "source": [
    "# 3) Deploy Cloudera Manager Services - Configure Service - EventServer"
   ]
  },
  {
   "cell_type": "code",
   "execution_count": 34,
   "metadata": {
    "collapsed": false
   },
   "outputs": [],
   "source": [
    "!mkdir -p /opt/cloudera/log/cloudera-scm-eventserver\n",
    "!mkdir -p /opt/cloudera/lib/cloudera-scm-eventserver\n",
    "\n",
    "!chmod -R 777 /opt/cloudera/log/cloudera-scm-eventserver\n",
    "!chmod -R 777 /opt/cloudera/lib/cloudera-scm-eventserver\n"
   ]
  },
  {
   "cell_type": "code",
   "execution_count": 35,
   "metadata": {
    "collapsed": false
   },
   "outputs": [
    {
     "data": {
      "text/plain": [
       "{'enable_config_alerts': True,\n",
       " 'event_server_heapsize': 268435456,\n",
       " 'eventserver_index_dir': '/opt/cloudera/lib/cloudera-scm-eventserver',\n",
       " 'log_threshold': 'INFO',\n",
       " 'max_log_backup_index': 10,\n",
       " 'max_log_size': 100,\n",
       " 'mgmt_log_dir': '/opt/cloudera/log/cloudera-scm-eventserver',\n",
       " 'oom_heap_dump_dir': '/tmp',\n",
       " 'oom_heap_dump_enabled': False}"
      ]
     },
     "execution_count": 35,
     "metadata": {},
     "output_type": "execute_result"
    }
   ],
   "source": [
    "varEventServerConfig = {\n",
    "    'event_server_heapsize': 268435456,\n",
    "    'mgmt_log_dir': \"/opt/cloudera/log/cloudera-scm-eventserver\",\n",
    "    'eventserver_index_dir': \"/opt/cloudera/lib/cloudera-scm-eventserver\",\n",
    "    'oom_heap_dump_dir': \"/tmp\",\n",
    "    'oom_heap_dump_enabled': False,\n",
    "    'max_log_backup_index': 10,\n",
    "    'max_log_size': 100,\n",
    "    'log_threshold': \"INFO\",\n",
    "    'enable_config_alerts': True,\n",
    "}\n",
    "\n",
    "varEventServerConfig"
   ]
  },
  {
   "cell_type": "code",
   "execution_count": 36,
   "metadata": {
    "collapsed": false
   },
   "outputs": [
    {
     "data": {
      "text/plain": [
       "{u'enable_config_alerts': u'true',\n",
       " u'event_server_heapsize': u'268435456',\n",
       " u'eventserver_index_dir': u'/opt/cloudera/lib/cloudera-scm-eventserver',\n",
       " u'log_threshold': u'INFO',\n",
       " u'max_log_backup_index': u'10',\n",
       " u'max_log_size': u'100',\n",
       " u'mgmt_log_dir': u'/opt/cloudera/log/cloudera-scm-eventserver',\n",
       " u'oom_heap_dump_dir': u'/tmp',\n",
       " u'oom_heap_dump_enabled': u'false'}"
      ]
     },
     "execution_count": 36,
     "metadata": {},
     "output_type": "execute_result"
    }
   ],
   "source": [
    "varRole = varMgmt.get_role(\"EVENTSERVER-1\")\n",
    "varRole.update_config(varEventServerConfig)"
   ]
  },
  {
   "cell_type": "code",
   "execution_count": null,
   "metadata": {
    "collapsed": true
   },
   "outputs": [],
   "source": []
  },
  {
   "cell_type": "code",
   "execution_count": 24,
   "metadata": {
    "collapsed": true
   },
   "outputs": [],
   "source": [
    "# 4) Deploy Cloudera Manager Services - Configure Service - HostMonitor"
   ]
  },
  {
   "cell_type": "code",
   "execution_count": 37,
   "metadata": {
    "collapsed": true
   },
   "outputs": [],
   "source": [
    "!mkdir -p /opt/cloudera/log/cloudera-scm-firehose\n",
    "!mkdir -p /opt/cloudera/lib/cloudera-host-monitor\n",
    "\n",
    "!chmod -R 777 /opt/cloudera/log/cloudera-scm-firehose\n",
    "!chmod -R 777 /opt/cloudera/lib/cloudera-host-monitor\n"
   ]
  },
  {
   "cell_type": "code",
   "execution_count": 38,
   "metadata": {
    "collapsed": false
   },
   "outputs": [
    {
     "data": {
      "text/plain": [
       "{'enable_config_alerts': True,\n",
       " 'firehose_heapsize': 268435456,\n",
       " 'firehose_storage_dir': '/opt/cloudera/lib/cloudera-host-monitor',\n",
       " 'log_threshold': 'INFO',\n",
       " 'max_log_backup_index': 10,\n",
       " 'max_log_size': 100,\n",
       " 'mgmt_log_dir': '/opt/cloudera/log/cloudera-scm-firehose',\n",
       " 'oom_heap_dump_dir': '/tmp',\n",
       " 'oom_heap_dump_enabled': False}"
      ]
     },
     "execution_count": 38,
     "metadata": {},
     "output_type": "execute_result"
    }
   ],
   "source": [
    "varHostMonitorConfig = {\n",
    "    'firehose_heapsize': 268435456,\n",
    "    'mgmt_log_dir': \"/opt/cloudera/log/cloudera-scm-firehose\",\n",
    "    'firehose_storage_dir': \"/opt/cloudera/lib/cloudera-host-monitor\",\n",
    "    'oom_heap_dump_dir':  \"/tmp\",\n",
    "    'oom_heap_dump_enabled': False,\n",
    "    'max_log_backup_index': 10,\n",
    "    'max_log_size': 100,\n",
    "    'log_threshold': \"INFO\",\n",
    "    'enable_config_alerts': True,\n",
    "}\n",
    "\n",
    "varHostMonitorConfig"
   ]
  },
  {
   "cell_type": "code",
   "execution_count": 39,
   "metadata": {
    "collapsed": false
   },
   "outputs": [
    {
     "data": {
      "text/plain": [
       "{u'enable_config_alerts': u'true',\n",
       " u'firehose_heapsize': u'268435456',\n",
       " u'firehose_storage_dir': u'/opt/cloudera/lib/cloudera-host-monitor',\n",
       " u'log_threshold': u'INFO',\n",
       " u'max_log_backup_index': u'10',\n",
       " u'max_log_size': u'100',\n",
       " u'mgmt_log_dir': u'/opt/cloudera/log/cloudera-scm-firehose',\n",
       " u'oom_heap_dump_dir': u'/tmp',\n",
       " u'oom_heap_dump_enabled': u'false'}"
      ]
     },
     "execution_count": 39,
     "metadata": {},
     "output_type": "execute_result"
    }
   ],
   "source": [
    "varRole = varMgmt.get_role(\"HOSTMONITOR-1\")\n",
    "varRole.update_config(varHostMonitorConfig)"
   ]
  },
  {
   "cell_type": "code",
   "execution_count": null,
   "metadata": {
    "collapsed": true
   },
   "outputs": [],
   "source": []
  },
  {
   "cell_type": "code",
   "execution_count": 25,
   "metadata": {
    "collapsed": true
   },
   "outputs": [],
   "source": [
    "# 5) Deploy Cloudera Manager Services - Configure Service - ServiceMonitor"
   ]
  },
  {
   "cell_type": "code",
   "execution_count": 40,
   "metadata": {
    "collapsed": true
   },
   "outputs": [],
   "source": [
    "!mkdir -p /opt/cloudera/log/cloudera-scm-firehose\n",
    "!mkdir -p /opt/cloudera/lib/cloudera-service-monitor\n",
    "\n",
    "!chmod -R 777 /opt/cloudera/log/cloudera-scm-firehose\n",
    "!chmod -R 777 /opt/cloudera/lib/cloudera-service-monitor\n"
   ]
  },
  {
   "cell_type": "code",
   "execution_count": 41,
   "metadata": {
    "collapsed": false
   },
   "outputs": [
    {
     "data": {
      "text/plain": [
       "{'enable_config_alerts': True,\n",
       " 'firehose_heapsize': 268435456,\n",
       " 'firehose_storage_dir': '/opt/cloudera/lib/cloudera-service-monitor',\n",
       " 'log_threshold': 'INFO',\n",
       " 'max_log_backup_index': 10,\n",
       " 'max_log_size': 100,\n",
       " 'mgmt_log_dir': '/opt/cloudera/log/cloudera-scm-firehose',\n",
       " 'oom_heap_dump_dir': '/tmp',\n",
       " 'oom_heap_dump_enabled': False}"
      ]
     },
     "execution_count": 41,
     "metadata": {},
     "output_type": "execute_result"
    }
   ],
   "source": [
    "varServiceMonitorConfig = {\n",
    "    'firehose_heapsize': 268435456,\n",
    "    'mgmt_log_dir': \"/opt/cloudera/log/cloudera-scm-firehose\",\n",
    "    'firehose_storage_dir': \"/opt/cloudera/lib/cloudera-service-monitor\",\n",
    "    'oom_heap_dump_dir': \"/tmp\",\n",
    "    'oom_heap_dump_enabled': False,\n",
    "    'max_log_backup_index': 10,\n",
    "    'max_log_size': 100,\n",
    "    'log_threshold': \"INFO\",\n",
    "    'enable_config_alerts': True,\n",
    "}\n",
    "\n",
    "varServiceMonitorConfig"
   ]
  },
  {
   "cell_type": "code",
   "execution_count": 42,
   "metadata": {
    "collapsed": false
   },
   "outputs": [
    {
     "data": {
      "text/plain": [
       "{u'enable_config_alerts': u'true',\n",
       " u'firehose_heapsize': u'268435456',\n",
       " u'firehose_storage_dir': u'/opt/cloudera/lib/cloudera-service-monitor',\n",
       " u'log_threshold': u'INFO',\n",
       " u'max_log_backup_index': u'10',\n",
       " u'max_log_size': u'100',\n",
       " u'mgmt_log_dir': u'/opt/cloudera/log/cloudera-scm-firehose',\n",
       " u'oom_heap_dump_dir': u'/tmp',\n",
       " u'oom_heap_dump_enabled': u'false'}"
      ]
     },
     "execution_count": 42,
     "metadata": {},
     "output_type": "execute_result"
    }
   ],
   "source": [
    "varRole = varMgmt.get_role(\"SERVICEMONITOR-1\")\n",
    "varRole.update_config(varServiceMonitorConfig)"
   ]
  },
  {
   "cell_type": "code",
   "execution_count": null,
   "metadata": {
    "collapsed": true
   },
   "outputs": [],
   "source": []
  },
  {
   "cell_type": "code",
   "execution_count": 26,
   "metadata": {
    "collapsed": true
   },
   "outputs": [],
   "source": [
    "# 6) Deploy Cloudera Manager Services - Configure Service - ReportManager"
   ]
  },
  {
   "cell_type": "code",
   "execution_count": 44,
   "metadata": {
    "collapsed": false
   },
   "outputs": [],
   "source": [
    "!mkdir -p /opt/cloudera/log/cloudera-scm-headlamp\n",
    "!mkdir -p /opt/cloudera/lib/cloudera-scm-headlamp\n",
    "\n",
    "!chmod -R 777 /opt/cloudera/log/cloudera-scm-headlamp\n",
    "!chmod -R 777 /opt/cloudera/lib/cloudera-scm-headlamp\n"
   ]
  },
  {
   "cell_type": "code",
   "execution_count": 45,
   "metadata": {
    "collapsed": true
   },
   "outputs": [],
   "source": [
    "varReportManagerPassword = \"OJgPd78yu9\""
   ]
  },
  {
   "cell_type": "code",
   "execution_count": 46,
   "metadata": {
    "collapsed": false
   },
   "outputs": [
    {
     "data": {
      "text/plain": [
       "{'enable_config_alerts': True,\n",
       " 'headlamp_database_host': 'pocd-cm581-dev-manager.poc-d.internal:7432',\n",
       " 'headlamp_database_name': 'rman',\n",
       " 'headlamp_database_password': 'OJgPd78yu9',\n",
       " 'headlamp_database_type': 'postgresql',\n",
       " 'headlamp_database_user': 'rman',\n",
       " 'headlamp_heapsize': 536870912,\n",
       " 'headlamp_scratch_dir': '/opt/cloudera/lib/cloudera-scm-headlamp',\n",
       " 'log_threshold': 'INFO',\n",
       " 'max_log_backup_index': 10,\n",
       " 'max_log_size': 100,\n",
       " 'mgmt_log_dir': '/opt/cloudera/log/cloudera-scm-headlamp',\n",
       " 'oom_heap_dump_dir': '/tmp',\n",
       " 'oom_heap_dump_enabled': False}"
      ]
     },
     "execution_count": 46,
     "metadata": {},
     "output_type": "execute_result"
    }
   ],
   "source": [
    "varReportManagerConfig = {\n",
    "    'headlamp_database_host': \"pocd-cm581-dev-manager.poc-d.internal\" + \":\" + \"7432\",\n",
    "    'headlamp_database_user': \"rman\",\n",
    "    'headlamp_database_password': varReportManagerPassword,\n",
    "    'headlamp_database_type': \"postgresql\",\n",
    "    'headlamp_database_name': \"rman\",\n",
    "    'headlamp_heapsize': 536870912,\n",
    "    'mgmt_log_dir': \"/opt/cloudera/log/cloudera-scm-headlamp\",\n",
    "    'headlamp_scratch_dir': \"/opt/cloudera/lib/cloudera-scm-headlamp\",\n",
    "    'oom_heap_dump_dir': \"/tmp\",\n",
    "    'oom_heap_dump_enabled': False,\n",
    "    'max_log_backup_index': 10,\n",
    "    'max_log_size': 100,\n",
    "    'log_threshold': \"INFO\",\n",
    "    'enable_config_alerts': True,\n",
    "}\n",
    "\n",
    "varReportManagerConfig"
   ]
  },
  {
   "cell_type": "code",
   "execution_count": 47,
   "metadata": {
    "collapsed": false
   },
   "outputs": [
    {
     "data": {
      "text/plain": [
       "{u'enable_config_alerts': u'true',\n",
       " u'headlamp_database_host': u'pocd-cm581-dev-manager.poc-d.internal:7432',\n",
       " u'headlamp_database_name': u'rman',\n",
       " u'headlamp_database_password': u'OJgPd78yu9',\n",
       " u'headlamp_database_type': u'postgresql',\n",
       " u'headlamp_database_user': u'rman',\n",
       " u'headlamp_heapsize': u'536870912',\n",
       " u'headlamp_scratch_dir': u'/opt/cloudera/lib/cloudera-scm-headlamp',\n",
       " u'log_threshold': u'INFO',\n",
       " u'max_log_backup_index': u'10',\n",
       " u'max_log_size': u'100',\n",
       " u'mgmt_log_dir': u'/opt/cloudera/log/cloudera-scm-headlamp',\n",
       " u'oom_heap_dump_dir': u'/tmp',\n",
       " u'oom_heap_dump_enabled': u'false'}"
      ]
     },
     "execution_count": 47,
     "metadata": {},
     "output_type": "execute_result"
    }
   ],
   "source": [
    "varRole = varMgmt.get_role(\"REPORTSMANAGER-1\")\n",
    "varRole.update_config(varReportManagerConfig)"
   ]
  },
  {
   "cell_type": "code",
   "execution_count": null,
   "metadata": {
    "collapsed": true
   },
   "outputs": [],
   "source": []
  },
  {
   "cell_type": "code",
   "execution_count": 48,
   "metadata": {
    "collapsed": false
   },
   "outputs": [
    {
     "data": {
      "text/plain": [
       "<cm_api.endpoints.types.ApiCommand at 0x7fd39030a390>"
      ]
     },
     "execution_count": 48,
     "metadata": {},
     "output_type": "execute_result"
    }
   ],
   "source": [
    "varMgmt.start().wait()"
   ]
  },
  {
   "cell_type": "code",
   "execution_count": null,
   "metadata": {
    "collapsed": true
   },
   "outputs": [],
   "source": []
  }
 ],
 "metadata": {
  "anaconda-cloud": {},
  "kernelspec": {
   "display_name": "Python 2",
   "language": "python",
   "name": "python2"
  },
  "language_info": {
   "codemirror_mode": {
    "name": "ipython",
    "version": 2
   },
   "file_extension": ".py",
   "mimetype": "text/x-python",
   "name": "python",
   "nbconvert_exporter": "python",
   "pygments_lexer": "ipython2",
   "version": "2.7.11"
  }
 },
 "nbformat": 4,
 "nbformat_minor": 0
}
